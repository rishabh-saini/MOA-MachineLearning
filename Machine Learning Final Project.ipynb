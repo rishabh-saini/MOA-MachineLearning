{
 "cells": [
  {
   "cell_type": "markdown",
   "metadata": {},
   "source": [
    "# Machine Learning End-Term Project"
   ]
  },
  {
   "cell_type": "markdown",
   "metadata": {},
   "source": [
    "## Submitted by :  \n",
    "\n",
    "####                Rishabh Saini 18CSU172\n"
   ]
  },
  {
   "cell_type": "markdown",
   "metadata": {},
   "source": [
    "# Mechanism of Action"
   ]
  },
  {
   "cell_type": "markdown",
   "metadata": {},
   "source": [
    "## Project Description"
   ]
  },
  {
   "cell_type": "markdown",
   "metadata": {},
   "source": [
    "In this project, I implement Machine Learning with Python and Scikit-Learn.Cell Viability is estimated via Linear and Polynomial Regression. I build a classifier to predict which treatment a person will go with by training a binary classification model using Logistic Regression and classification. K-Means and Apriori algorithms were further added for more inference from the data. I have used the **MoA** dataset downloaded from the Kaggle website for this project."
   ]
  },
  {
   "cell_type": "markdown",
   "metadata": {},
   "source": [
    "## Table of Contents\n",
    "\n",
    "\n",
    "The table of contents for this project is as follows:-\n",
    "\n",
    "\n",
    "1.\tDataset description\n",
    "2.\tImport libraries\n",
    "3.\tImport dataset\n",
    "4.\tExploratory Data Analysis\n",
    "5.  Data Visualization\n",
    "6.\tLinear Regression\n",
    "7. Polynomial Regression\n",
    "8.\tLogistic Regression\n",
    "9. Decision Tree\n",
    "10. Naive Bayes\n",
    "11. SVM\n",
    "12. K-Means\n",
    "13. Association Rule Mining\n",
    "14. Result\n"
   ]
  },
  {
   "cell_type": "markdown",
   "metadata": {},
   "source": [
    "## 1. Dataset Description"
   ]
  },
  {
   "cell_type": "markdown",
   "metadata": {},
   "source": [
    "| Column Name            | Description                                               |\n",
    "| -------------          |:-------------                                            :| \n",
    "| __sig_id__                | Sample ID (numerical)           | \n",
    "| __cp_type__ | Treatment Type, (categorical)      |  \n",
    "| __cp_time__ | Treatment Duration (numerical)    | \n",
    "| __cp_dose__             | Type of dose, high or low| \n",
    "| __g-x__ | Gene Expression data (numerical)    | \n",
    "| __c-0__ | Cell Viability Data (numerical)    | "
   ]
  },
  {
   "cell_type": "markdown",
   "metadata": {},
   "source": [
    "## 2. Importing Libraries"
   ]
  },
  {
   "cell_type": "code",
   "execution_count": 1,
   "metadata": {},
   "outputs": [],
   "source": [
    "import pandas as pd\n",
    "import numpy as np\n",
    "import matplotlib.pyplot as plt\n",
    "import seaborn as sns\n",
    "%matplotlib inline\n",
    "from mpl_toolkits.mplot3d import Axes3D"
   ]
  },
  {
   "cell_type": "markdown",
   "metadata": {},
   "source": [
    "## 3. Importing Dataset"
   ]
  },
  {
   "cell_type": "code",
   "execution_count": 2,
   "metadata": {},
   "outputs": [],
   "source": [
    "data = 'train_features.csv'\n",
    "\n",
    "training_set = pd.read_csv(data)"
   ]
  },
  {
   "cell_type": "code",
   "execution_count": 3,
   "metadata": {},
   "outputs": [
    {
     "data": {
      "text/plain": [
       "(2112, 10)"
      ]
     },
     "execution_count": 3,
     "metadata": {},
     "output_type": "execute_result"
    }
   ],
   "source": [
    "# view dimensions of dataset\n",
    "\n",
    "training_set.shape"
   ]
  },
  {
   "cell_type": "code",
   "execution_count": 4,
   "metadata": {},
   "outputs": [
    {
     "data": {
      "text/html": [
       "<div>\n",
       "<style scoped>\n",
       "    .dataframe tbody tr th:only-of-type {\n",
       "        vertical-align: middle;\n",
       "    }\n",
       "\n",
       "    .dataframe tbody tr th {\n",
       "        vertical-align: top;\n",
       "    }\n",
       "\n",
       "    .dataframe thead th {\n",
       "        text-align: right;\n",
       "    }\n",
       "</style>\n",
       "<table border=\"1\" class=\"dataframe\">\n",
       "  <thead>\n",
       "    <tr style=\"text-align: right;\">\n",
       "      <th></th>\n",
       "      <th>sig_id</th>\n",
       "      <th>cp_type</th>\n",
       "      <th>cp_time</th>\n",
       "      <th>cp_dose</th>\n",
       "      <th>g-0</th>\n",
       "      <th>g-1</th>\n",
       "      <th>g-2</th>\n",
       "      <th>g-3</th>\n",
       "      <th>g-4</th>\n",
       "      <th>c-0</th>\n",
       "    </tr>\n",
       "  </thead>\n",
       "  <tbody>\n",
       "    <tr>\n",
       "      <th>0</th>\n",
       "      <td>id_000644bb2</td>\n",
       "      <td>trt_cp</td>\n",
       "      <td>24</td>\n",
       "      <td>D1</td>\n",
       "      <td>1.0620</td>\n",
       "      <td>0.5577</td>\n",
       "      <td>-0.2479</td>\n",
       "      <td>-0.6208</td>\n",
       "      <td>-0.1944</td>\n",
       "      <td>-0.0600</td>\n",
       "    </tr>\n",
       "    <tr>\n",
       "      <th>1</th>\n",
       "      <td>id_000779bfc</td>\n",
       "      <td>trt_cp</td>\n",
       "      <td>72</td>\n",
       "      <td>D1</td>\n",
       "      <td>0.0743</td>\n",
       "      <td>0.4087</td>\n",
       "      <td>0.2991</td>\n",
       "      <td>0.0604</td>\n",
       "      <td>1.0190</td>\n",
       "      <td>0.0927</td>\n",
       "    </tr>\n",
       "    <tr>\n",
       "      <th>2</th>\n",
       "      <td>id_000a6266a</td>\n",
       "      <td>trt_cp</td>\n",
       "      <td>48</td>\n",
       "      <td>D1</td>\n",
       "      <td>0.6280</td>\n",
       "      <td>0.5817</td>\n",
       "      <td>1.5540</td>\n",
       "      <td>-0.0764</td>\n",
       "      <td>-0.0323</td>\n",
       "      <td>-0.1312</td>\n",
       "    </tr>\n",
       "    <tr>\n",
       "      <th>3</th>\n",
       "      <td>id_0015fd391</td>\n",
       "      <td>trt_cp</td>\n",
       "      <td>48</td>\n",
       "      <td>D1</td>\n",
       "      <td>-0.5138</td>\n",
       "      <td>-0.2491</td>\n",
       "      <td>-0.2656</td>\n",
       "      <td>0.5288</td>\n",
       "      <td>4.0620</td>\n",
       "      <td>-0.3998</td>\n",
       "    </tr>\n",
       "    <tr>\n",
       "      <th>4</th>\n",
       "      <td>id_001626bd3</td>\n",
       "      <td>trt_cp</td>\n",
       "      <td>72</td>\n",
       "      <td>D2</td>\n",
       "      <td>-0.3254</td>\n",
       "      <td>-0.4009</td>\n",
       "      <td>0.9700</td>\n",
       "      <td>0.6919</td>\n",
       "      <td>1.4180</td>\n",
       "      <td>-0.3774</td>\n",
       "    </tr>\n",
       "  </tbody>\n",
       "</table>\n",
       "</div>"
      ],
      "text/plain": [
       "         sig_id cp_type  cp_time cp_dose     g-0     g-1     g-2     g-3  \\\n",
       "0  id_000644bb2  trt_cp       24      D1  1.0620  0.5577 -0.2479 -0.6208   \n",
       "1  id_000779bfc  trt_cp       72      D1  0.0743  0.4087  0.2991  0.0604   \n",
       "2  id_000a6266a  trt_cp       48      D1  0.6280  0.5817  1.5540 -0.0764   \n",
       "3  id_0015fd391  trt_cp       48      D1 -0.5138 -0.2491 -0.2656  0.5288   \n",
       "4  id_001626bd3  trt_cp       72      D2 -0.3254 -0.4009  0.9700  0.6919   \n",
       "\n",
       "      g-4     c-0  \n",
       "0 -0.1944 -0.0600  \n",
       "1  1.0190  0.0927  \n",
       "2 -0.0323 -0.1312  \n",
       "3  4.0620 -0.3998  \n",
       "4  1.4180 -0.3774  "
      ]
     },
     "execution_count": 4,
     "metadata": {},
     "output_type": "execute_result"
    }
   ],
   "source": [
    "training_set.head()\n"
   ]
  },
  {
   "cell_type": "markdown",
   "metadata": {},
   "source": [
    "## 4. Exploratory Data Analysis"
   ]
  },
  {
   "cell_type": "code",
   "execution_count": 5,
   "metadata": {},
   "outputs": [
    {
     "data": {
      "text/plain": [
       "Index(['sig_id', 'cp_type', 'cp_time', 'cp_dose', 'g-0', 'g-1', 'g-2', 'g-3',\n",
       "       'g-4', 'c-0'],\n",
       "      dtype='object')"
      ]
     },
     "execution_count": 5,
     "metadata": {},
     "output_type": "execute_result"
    }
   ],
   "source": [
    "col_names = training_set.columns\n",
    "\n",
    "col_names"
   ]
  },
  {
   "cell_type": "code",
   "execution_count": 6,
   "metadata": {},
   "outputs": [
    {
     "name": "stdout",
     "output_type": "stream",
     "text": [
      "<class 'pandas.core.frame.DataFrame'>\n",
      "RangeIndex: 2112 entries, 0 to 2111\n",
      "Data columns (total 10 columns):\n",
      " #   Column   Non-Null Count  Dtype  \n",
      "---  ------   --------------  -----  \n",
      " 0   sig_id   2112 non-null   object \n",
      " 1   cp_type  2112 non-null   object \n",
      " 2   cp_time  2112 non-null   int64  \n",
      " 3   cp_dose  2112 non-null   object \n",
      " 4   g-0      2112 non-null   float64\n",
      " 5   g-1      2112 non-null   float64\n",
      " 6   g-2      2112 non-null   float64\n",
      " 7   g-3      2112 non-null   float64\n",
      " 8   g-4      2112 non-null   float64\n",
      " 9   c-0      2112 non-null   float64\n",
      "dtypes: float64(6), int64(1), object(3)\n",
      "memory usage: 165.1+ KB\n"
     ]
    }
   ],
   "source": [
    "training_set.info()"
   ]
  },
  {
   "cell_type": "code",
   "execution_count": 7,
   "metadata": {},
   "outputs": [
    {
     "name": "stdout",
     "output_type": "stream",
     "text": [
      "There are 3 categorical variables\n",
      "\n",
      "The categorical variables are : ['sig_id', 'cp_type', 'cp_dose']\n"
     ]
    }
   ],
   "source": [
    "categorical = [var for var in training_set.columns if training_set[var].dtype=='O']\n",
    "\n",
    "print('There are {} categorical variables\\n'.format(len(categorical)))\n",
    "\n",
    "print('The categorical variables are :', categorical)"
   ]
  },
  {
   "cell_type": "code",
   "execution_count": 8,
   "metadata": {},
   "outputs": [
    {
     "data": {
      "text/html": [
       "<div>\n",
       "<style scoped>\n",
       "    .dataframe tbody tr th:only-of-type {\n",
       "        vertical-align: middle;\n",
       "    }\n",
       "\n",
       "    .dataframe tbody tr th {\n",
       "        vertical-align: top;\n",
       "    }\n",
       "\n",
       "    .dataframe thead th {\n",
       "        text-align: right;\n",
       "    }\n",
       "</style>\n",
       "<table border=\"1\" class=\"dataframe\">\n",
       "  <thead>\n",
       "    <tr style=\"text-align: right;\">\n",
       "      <th></th>\n",
       "      <th>sig_id</th>\n",
       "      <th>cp_type</th>\n",
       "      <th>cp_dose</th>\n",
       "    </tr>\n",
       "  </thead>\n",
       "  <tbody>\n",
       "    <tr>\n",
       "      <th>0</th>\n",
       "      <td>id_000644bb2</td>\n",
       "      <td>trt_cp</td>\n",
       "      <td>D1</td>\n",
       "    </tr>\n",
       "    <tr>\n",
       "      <th>1</th>\n",
       "      <td>id_000779bfc</td>\n",
       "      <td>trt_cp</td>\n",
       "      <td>D1</td>\n",
       "    </tr>\n",
       "    <tr>\n",
       "      <th>2</th>\n",
       "      <td>id_000a6266a</td>\n",
       "      <td>trt_cp</td>\n",
       "      <td>D1</td>\n",
       "    </tr>\n",
       "    <tr>\n",
       "      <th>3</th>\n",
       "      <td>id_0015fd391</td>\n",
       "      <td>trt_cp</td>\n",
       "      <td>D1</td>\n",
       "    </tr>\n",
       "    <tr>\n",
       "      <th>4</th>\n",
       "      <td>id_001626bd3</td>\n",
       "      <td>trt_cp</td>\n",
       "      <td>D2</td>\n",
       "    </tr>\n",
       "  </tbody>\n",
       "</table>\n",
       "</div>"
      ],
      "text/plain": [
       "         sig_id cp_type cp_dose\n",
       "0  id_000644bb2  trt_cp      D1\n",
       "1  id_000779bfc  trt_cp      D1\n",
       "2  id_000a6266a  trt_cp      D1\n",
       "3  id_0015fd391  trt_cp      D1\n",
       "4  id_001626bd3  trt_cp      D2"
      ]
     },
     "execution_count": 8,
     "metadata": {},
     "output_type": "execute_result"
    }
   ],
   "source": [
    "\n",
    "training_set[categorical].head()"
   ]
  },
  {
   "cell_type": "code",
   "execution_count": 9,
   "metadata": {},
   "outputs": [
    {
     "data": {
      "text/plain": [
       "sig_id     0\n",
       "cp_type    0\n",
       "cp_dose    0\n",
       "dtype: int64"
      ]
     },
     "execution_count": 9,
     "metadata": {},
     "output_type": "execute_result"
    }
   ],
   "source": [
    "training_set[categorical].isnull().sum()"
   ]
  },
  {
   "cell_type": "code",
   "execution_count": 10,
   "metadata": {},
   "outputs": [
    {
     "name": "stdout",
     "output_type": "stream",
     "text": [
      "There are 7 numerical variables\n",
      "\n",
      "The numerical variables are : ['cp_time', 'g-0', 'g-1', 'g-2', 'g-3', 'g-4', 'c-0']\n"
     ]
    }
   ],
   "source": [
    "numerical = [var for var in training_set.columns if training_set[var].dtype!='O']\n",
    "\n",
    "print('There are {} numerical variables\\n'.format(len(numerical)))\n",
    "\n",
    "print('The numerical variables are :', numerical)"
   ]
  },
  {
   "cell_type": "code",
   "execution_count": 11,
   "metadata": {},
   "outputs": [
    {
     "data": {
      "text/html": [
       "<div>\n",
       "<style scoped>\n",
       "    .dataframe tbody tr th:only-of-type {\n",
       "        vertical-align: middle;\n",
       "    }\n",
       "\n",
       "    .dataframe tbody tr th {\n",
       "        vertical-align: top;\n",
       "    }\n",
       "\n",
       "    .dataframe thead th {\n",
       "        text-align: right;\n",
       "    }\n",
       "</style>\n",
       "<table border=\"1\" class=\"dataframe\">\n",
       "  <thead>\n",
       "    <tr style=\"text-align: right;\">\n",
       "      <th></th>\n",
       "      <th>cp_time</th>\n",
       "      <th>g-0</th>\n",
       "      <th>g-1</th>\n",
       "      <th>g-2</th>\n",
       "      <th>g-3</th>\n",
       "      <th>g-4</th>\n",
       "      <th>c-0</th>\n",
       "    </tr>\n",
       "  </thead>\n",
       "  <tbody>\n",
       "    <tr>\n",
       "      <th>0</th>\n",
       "      <td>24</td>\n",
       "      <td>1.0620</td>\n",
       "      <td>0.5577</td>\n",
       "      <td>-0.2479</td>\n",
       "      <td>-0.6208</td>\n",
       "      <td>-0.1944</td>\n",
       "      <td>-0.0600</td>\n",
       "    </tr>\n",
       "    <tr>\n",
       "      <th>1</th>\n",
       "      <td>72</td>\n",
       "      <td>0.0743</td>\n",
       "      <td>0.4087</td>\n",
       "      <td>0.2991</td>\n",
       "      <td>0.0604</td>\n",
       "      <td>1.0190</td>\n",
       "      <td>0.0927</td>\n",
       "    </tr>\n",
       "    <tr>\n",
       "      <th>2</th>\n",
       "      <td>48</td>\n",
       "      <td>0.6280</td>\n",
       "      <td>0.5817</td>\n",
       "      <td>1.5540</td>\n",
       "      <td>-0.0764</td>\n",
       "      <td>-0.0323</td>\n",
       "      <td>-0.1312</td>\n",
       "    </tr>\n",
       "    <tr>\n",
       "      <th>3</th>\n",
       "      <td>48</td>\n",
       "      <td>-0.5138</td>\n",
       "      <td>-0.2491</td>\n",
       "      <td>-0.2656</td>\n",
       "      <td>0.5288</td>\n",
       "      <td>4.0620</td>\n",
       "      <td>-0.3998</td>\n",
       "    </tr>\n",
       "    <tr>\n",
       "      <th>4</th>\n",
       "      <td>72</td>\n",
       "      <td>-0.3254</td>\n",
       "      <td>-0.4009</td>\n",
       "      <td>0.9700</td>\n",
       "      <td>0.6919</td>\n",
       "      <td>1.4180</td>\n",
       "      <td>-0.3774</td>\n",
       "    </tr>\n",
       "  </tbody>\n",
       "</table>\n",
       "</div>"
      ],
      "text/plain": [
       "   cp_time     g-0     g-1     g-2     g-3     g-4     c-0\n",
       "0       24  1.0620  0.5577 -0.2479 -0.6208 -0.1944 -0.0600\n",
       "1       72  0.0743  0.4087  0.2991  0.0604  1.0190  0.0927\n",
       "2       48  0.6280  0.5817  1.5540 -0.0764 -0.0323 -0.1312\n",
       "3       48 -0.5138 -0.2491 -0.2656  0.5288  4.0620 -0.3998\n",
       "4       72 -0.3254 -0.4009  0.9700  0.6919  1.4180 -0.3774"
      ]
     },
     "execution_count": 11,
     "metadata": {},
     "output_type": "execute_result"
    }
   ],
   "source": [
    "\n",
    "training_set[numerical].head()"
   ]
  },
  {
   "cell_type": "code",
   "execution_count": 12,
   "metadata": {},
   "outputs": [
    {
     "data": {
      "text/html": [
       "<div>\n",
       "<style scoped>\n",
       "    .dataframe tbody tr th:only-of-type {\n",
       "        vertical-align: middle;\n",
       "    }\n",
       "\n",
       "    .dataframe tbody tr th {\n",
       "        vertical-align: top;\n",
       "    }\n",
       "\n",
       "    .dataframe thead th {\n",
       "        text-align: right;\n",
       "    }\n",
       "</style>\n",
       "<table border=\"1\" class=\"dataframe\">\n",
       "  <thead>\n",
       "    <tr style=\"text-align: right;\">\n",
       "      <th></th>\n",
       "      <th>sig_id</th>\n",
       "      <th>cp_type</th>\n",
       "      <th>cp_time</th>\n",
       "      <th>cp_dose</th>\n",
       "      <th>g-0</th>\n",
       "      <th>g-1</th>\n",
       "      <th>g-2</th>\n",
       "      <th>g-3</th>\n",
       "      <th>g-4</th>\n",
       "      <th>c-0</th>\n",
       "    </tr>\n",
       "  </thead>\n",
       "  <tbody>\n",
       "    <tr>\n",
       "      <th>0</th>\n",
       "      <td>id_000644bb2</td>\n",
       "      <td>trt_cp</td>\n",
       "      <td>24</td>\n",
       "      <td>D1</td>\n",
       "      <td>1.0620</td>\n",
       "      <td>0.5577</td>\n",
       "      <td>-0.2479</td>\n",
       "      <td>-0.6208</td>\n",
       "      <td>-0.1944</td>\n",
       "      <td>-0.0600</td>\n",
       "    </tr>\n",
       "    <tr>\n",
       "      <th>1</th>\n",
       "      <td>id_000779bfc</td>\n",
       "      <td>trt_cp</td>\n",
       "      <td>72</td>\n",
       "      <td>D1</td>\n",
       "      <td>0.0743</td>\n",
       "      <td>0.4087</td>\n",
       "      <td>0.2991</td>\n",
       "      <td>0.0604</td>\n",
       "      <td>1.0190</td>\n",
       "      <td>0.0927</td>\n",
       "    </tr>\n",
       "    <tr>\n",
       "      <th>2</th>\n",
       "      <td>id_000a6266a</td>\n",
       "      <td>trt_cp</td>\n",
       "      <td>48</td>\n",
       "      <td>D1</td>\n",
       "      <td>0.6280</td>\n",
       "      <td>0.5817</td>\n",
       "      <td>1.5540</td>\n",
       "      <td>-0.0764</td>\n",
       "      <td>-0.0323</td>\n",
       "      <td>-0.1312</td>\n",
       "    </tr>\n",
       "    <tr>\n",
       "      <th>3</th>\n",
       "      <td>id_0015fd391</td>\n",
       "      <td>trt_cp</td>\n",
       "      <td>48</td>\n",
       "      <td>D1</td>\n",
       "      <td>-0.5138</td>\n",
       "      <td>-0.2491</td>\n",
       "      <td>-0.2656</td>\n",
       "      <td>0.5288</td>\n",
       "      <td>4.0620</td>\n",
       "      <td>-0.3998</td>\n",
       "    </tr>\n",
       "    <tr>\n",
       "      <th>4</th>\n",
       "      <td>id_001626bd3</td>\n",
       "      <td>trt_cp</td>\n",
       "      <td>72</td>\n",
       "      <td>D2</td>\n",
       "      <td>-0.3254</td>\n",
       "      <td>-0.4009</td>\n",
       "      <td>0.9700</td>\n",
       "      <td>0.6919</td>\n",
       "      <td>1.4180</td>\n",
       "      <td>-0.3774</td>\n",
       "    </tr>\n",
       "    <tr>\n",
       "      <th>...</th>\n",
       "      <td>...</td>\n",
       "      <td>...</td>\n",
       "      <td>...</td>\n",
       "      <td>...</td>\n",
       "      <td>...</td>\n",
       "      <td>...</td>\n",
       "      <td>...</td>\n",
       "      <td>...</td>\n",
       "      <td>...</td>\n",
       "      <td>...</td>\n",
       "    </tr>\n",
       "    <tr>\n",
       "      <th>2107</th>\n",
       "      <td>id_16a918bc4</td>\n",
       "      <td>trt_cp</td>\n",
       "      <td>72</td>\n",
       "      <td>D1</td>\n",
       "      <td>-0.7991</td>\n",
       "      <td>0.3067</td>\n",
       "      <td>0.4350</td>\n",
       "      <td>-1.4600</td>\n",
       "      <td>0.4923</td>\n",
       "      <td>0.3486</td>\n",
       "    </tr>\n",
       "    <tr>\n",
       "      <th>2108</th>\n",
       "      <td>id_16aa97597</td>\n",
       "      <td>trt_cp</td>\n",
       "      <td>24</td>\n",
       "      <td>D2</td>\n",
       "      <td>-0.3627</td>\n",
       "      <td>0.1414</td>\n",
       "      <td>0.6238</td>\n",
       "      <td>-0.1841</td>\n",
       "      <td>0.6299</td>\n",
       "      <td>-0.4333</td>\n",
       "    </tr>\n",
       "    <tr>\n",
       "      <th>2109</th>\n",
       "      <td>id_16ab940da</td>\n",
       "      <td>trt_cp</td>\n",
       "      <td>48</td>\n",
       "      <td>D2</td>\n",
       "      <td>0.7183</td>\n",
       "      <td>0.4706</td>\n",
       "      <td>-0.9542</td>\n",
       "      <td>1.4390</td>\n",
       "      <td>0.7732</td>\n",
       "      <td>-0.3688</td>\n",
       "    </tr>\n",
       "    <tr>\n",
       "      <th>2110</th>\n",
       "      <td>id_16ae2c9c1</td>\n",
       "      <td>trt_cp</td>\n",
       "      <td>48</td>\n",
       "      <td>D1</td>\n",
       "      <td>-0.9685</td>\n",
       "      <td>0.5579</td>\n",
       "      <td>-0.6941</td>\n",
       "      <td>-0.0819</td>\n",
       "      <td>-0.7420</td>\n",
       "      <td>0.3486</td>\n",
       "    </tr>\n",
       "    <tr>\n",
       "      <th>2111</th>\n",
       "      <td>id_16afe1913</td>\n",
       "      <td>trt_cp</td>\n",
       "      <td>48</td>\n",
       "      <td>D2</td>\n",
       "      <td>0.1313</td>\n",
       "      <td>-0.0127</td>\n",
       "      <td>-0.5824</td>\n",
       "      <td>0.4845</td>\n",
       "      <td>-1.2760</td>\n",
       "      <td>-0.4333</td>\n",
       "    </tr>\n",
       "  </tbody>\n",
       "</table>\n",
       "<p>2112 rows × 10 columns</p>\n",
       "</div>"
      ],
      "text/plain": [
       "            sig_id cp_type  cp_time cp_dose     g-0     g-1     g-2     g-3  \\\n",
       "0     id_000644bb2  trt_cp       24      D1  1.0620  0.5577 -0.2479 -0.6208   \n",
       "1     id_000779bfc  trt_cp       72      D1  0.0743  0.4087  0.2991  0.0604   \n",
       "2     id_000a6266a  trt_cp       48      D1  0.6280  0.5817  1.5540 -0.0764   \n",
       "3     id_0015fd391  trt_cp       48      D1 -0.5138 -0.2491 -0.2656  0.5288   \n",
       "4     id_001626bd3  trt_cp       72      D2 -0.3254 -0.4009  0.9700  0.6919   \n",
       "...            ...     ...      ...     ...     ...     ...     ...     ...   \n",
       "2107  id_16a918bc4  trt_cp       72      D1 -0.7991  0.3067  0.4350 -1.4600   \n",
       "2108  id_16aa97597  trt_cp       24      D2 -0.3627  0.1414  0.6238 -0.1841   \n",
       "2109  id_16ab940da  trt_cp       48      D2  0.7183  0.4706 -0.9542  1.4390   \n",
       "2110  id_16ae2c9c1  trt_cp       48      D1 -0.9685  0.5579 -0.6941 -0.0819   \n",
       "2111  id_16afe1913  trt_cp       48      D2  0.1313 -0.0127 -0.5824  0.4845   \n",
       "\n",
       "         g-4     c-0  \n",
       "0    -0.1944 -0.0600  \n",
       "1     1.0190  0.0927  \n",
       "2    -0.0323 -0.1312  \n",
       "3     4.0620 -0.3998  \n",
       "4     1.4180 -0.3774  \n",
       "...      ...     ...  \n",
       "2107  0.4923  0.3486  \n",
       "2108  0.6299 -0.4333  \n",
       "2109  0.7732 -0.3688  \n",
       "2110 -0.7420  0.3486  \n",
       "2111 -1.2760 -0.4333  \n",
       "\n",
       "[2112 rows x 10 columns]"
      ]
     },
     "execution_count": 12,
     "metadata": {},
     "output_type": "execute_result"
    }
   ],
   "source": [
    "training_set"
   ]
  },
  {
   "cell_type": "code",
   "execution_count": 13,
   "metadata": {},
   "outputs": [],
   "source": [
    "training_set.drop('sig_id',axis=1,inplace=True)"
   ]
  },
  {
   "cell_type": "code",
   "execution_count": 14,
   "metadata": {},
   "outputs": [
    {
     "data": {
      "text/html": [
       "<div>\n",
       "<style scoped>\n",
       "    .dataframe tbody tr th:only-of-type {\n",
       "        vertical-align: middle;\n",
       "    }\n",
       "\n",
       "    .dataframe tbody tr th {\n",
       "        vertical-align: top;\n",
       "    }\n",
       "\n",
       "    .dataframe thead th {\n",
       "        text-align: right;\n",
       "    }\n",
       "</style>\n",
       "<table border=\"1\" class=\"dataframe\">\n",
       "  <thead>\n",
       "    <tr style=\"text-align: right;\">\n",
       "      <th></th>\n",
       "      <th>cp_type</th>\n",
       "      <th>cp_time</th>\n",
       "      <th>cp_dose</th>\n",
       "      <th>g-0</th>\n",
       "      <th>g-1</th>\n",
       "      <th>g-2</th>\n",
       "      <th>g-3</th>\n",
       "      <th>g-4</th>\n",
       "      <th>c-0</th>\n",
       "    </tr>\n",
       "  </thead>\n",
       "  <tbody>\n",
       "    <tr>\n",
       "      <th>0</th>\n",
       "      <td>trt_cp</td>\n",
       "      <td>24</td>\n",
       "      <td>D1</td>\n",
       "      <td>1.0620</td>\n",
       "      <td>0.5577</td>\n",
       "      <td>-0.2479</td>\n",
       "      <td>-0.6208</td>\n",
       "      <td>-0.1944</td>\n",
       "      <td>-0.0600</td>\n",
       "    </tr>\n",
       "    <tr>\n",
       "      <th>1</th>\n",
       "      <td>trt_cp</td>\n",
       "      <td>72</td>\n",
       "      <td>D1</td>\n",
       "      <td>0.0743</td>\n",
       "      <td>0.4087</td>\n",
       "      <td>0.2991</td>\n",
       "      <td>0.0604</td>\n",
       "      <td>1.0190</td>\n",
       "      <td>0.0927</td>\n",
       "    </tr>\n",
       "    <tr>\n",
       "      <th>2</th>\n",
       "      <td>trt_cp</td>\n",
       "      <td>48</td>\n",
       "      <td>D1</td>\n",
       "      <td>0.6280</td>\n",
       "      <td>0.5817</td>\n",
       "      <td>1.5540</td>\n",
       "      <td>-0.0764</td>\n",
       "      <td>-0.0323</td>\n",
       "      <td>-0.1312</td>\n",
       "    </tr>\n",
       "    <tr>\n",
       "      <th>3</th>\n",
       "      <td>trt_cp</td>\n",
       "      <td>48</td>\n",
       "      <td>D1</td>\n",
       "      <td>-0.5138</td>\n",
       "      <td>-0.2491</td>\n",
       "      <td>-0.2656</td>\n",
       "      <td>0.5288</td>\n",
       "      <td>4.0620</td>\n",
       "      <td>-0.3998</td>\n",
       "    </tr>\n",
       "    <tr>\n",
       "      <th>4</th>\n",
       "      <td>trt_cp</td>\n",
       "      <td>72</td>\n",
       "      <td>D2</td>\n",
       "      <td>-0.3254</td>\n",
       "      <td>-0.4009</td>\n",
       "      <td>0.9700</td>\n",
       "      <td>0.6919</td>\n",
       "      <td>1.4180</td>\n",
       "      <td>-0.3774</td>\n",
       "    </tr>\n",
       "    <tr>\n",
       "      <th>...</th>\n",
       "      <td>...</td>\n",
       "      <td>...</td>\n",
       "      <td>...</td>\n",
       "      <td>...</td>\n",
       "      <td>...</td>\n",
       "      <td>...</td>\n",
       "      <td>...</td>\n",
       "      <td>...</td>\n",
       "      <td>...</td>\n",
       "    </tr>\n",
       "    <tr>\n",
       "      <th>2107</th>\n",
       "      <td>trt_cp</td>\n",
       "      <td>72</td>\n",
       "      <td>D1</td>\n",
       "      <td>-0.7991</td>\n",
       "      <td>0.3067</td>\n",
       "      <td>0.4350</td>\n",
       "      <td>-1.4600</td>\n",
       "      <td>0.4923</td>\n",
       "      <td>0.3486</td>\n",
       "    </tr>\n",
       "    <tr>\n",
       "      <th>2108</th>\n",
       "      <td>trt_cp</td>\n",
       "      <td>24</td>\n",
       "      <td>D2</td>\n",
       "      <td>-0.3627</td>\n",
       "      <td>0.1414</td>\n",
       "      <td>0.6238</td>\n",
       "      <td>-0.1841</td>\n",
       "      <td>0.6299</td>\n",
       "      <td>-0.4333</td>\n",
       "    </tr>\n",
       "    <tr>\n",
       "      <th>2109</th>\n",
       "      <td>trt_cp</td>\n",
       "      <td>48</td>\n",
       "      <td>D2</td>\n",
       "      <td>0.7183</td>\n",
       "      <td>0.4706</td>\n",
       "      <td>-0.9542</td>\n",
       "      <td>1.4390</td>\n",
       "      <td>0.7732</td>\n",
       "      <td>-0.3688</td>\n",
       "    </tr>\n",
       "    <tr>\n",
       "      <th>2110</th>\n",
       "      <td>trt_cp</td>\n",
       "      <td>48</td>\n",
       "      <td>D1</td>\n",
       "      <td>-0.9685</td>\n",
       "      <td>0.5579</td>\n",
       "      <td>-0.6941</td>\n",
       "      <td>-0.0819</td>\n",
       "      <td>-0.7420</td>\n",
       "      <td>0.3486</td>\n",
       "    </tr>\n",
       "    <tr>\n",
       "      <th>2111</th>\n",
       "      <td>trt_cp</td>\n",
       "      <td>48</td>\n",
       "      <td>D2</td>\n",
       "      <td>0.1313</td>\n",
       "      <td>-0.0127</td>\n",
       "      <td>-0.5824</td>\n",
       "      <td>0.4845</td>\n",
       "      <td>-1.2760</td>\n",
       "      <td>-0.4333</td>\n",
       "    </tr>\n",
       "  </tbody>\n",
       "</table>\n",
       "<p>2112 rows × 9 columns</p>\n",
       "</div>"
      ],
      "text/plain": [
       "     cp_type  cp_time cp_dose     g-0     g-1     g-2     g-3     g-4     c-0\n",
       "0     trt_cp       24      D1  1.0620  0.5577 -0.2479 -0.6208 -0.1944 -0.0600\n",
       "1     trt_cp       72      D1  0.0743  0.4087  0.2991  0.0604  1.0190  0.0927\n",
       "2     trt_cp       48      D1  0.6280  0.5817  1.5540 -0.0764 -0.0323 -0.1312\n",
       "3     trt_cp       48      D1 -0.5138 -0.2491 -0.2656  0.5288  4.0620 -0.3998\n",
       "4     trt_cp       72      D2 -0.3254 -0.4009  0.9700  0.6919  1.4180 -0.3774\n",
       "...      ...      ...     ...     ...     ...     ...     ...     ...     ...\n",
       "2107  trt_cp       72      D1 -0.7991  0.3067  0.4350 -1.4600  0.4923  0.3486\n",
       "2108  trt_cp       24      D2 -0.3627  0.1414  0.6238 -0.1841  0.6299 -0.4333\n",
       "2109  trt_cp       48      D2  0.7183  0.4706 -0.9542  1.4390  0.7732 -0.3688\n",
       "2110  trt_cp       48      D1 -0.9685  0.5579 -0.6941 -0.0819 -0.7420  0.3486\n",
       "2111  trt_cp       48      D2  0.1313 -0.0127 -0.5824  0.4845 -1.2760 -0.4333\n",
       "\n",
       "[2112 rows x 9 columns]"
      ]
     },
     "execution_count": 14,
     "metadata": {},
     "output_type": "execute_result"
    }
   ],
   "source": [
    "training_set"
   ]
  },
  {
   "cell_type": "markdown",
   "metadata": {},
   "source": [
    "# 5. Data Visualization"
   ]
  },
  {
   "cell_type": "markdown",
   "metadata": {},
   "source": [
    "### 1. What is the correlation between genes and cell viability?"
   ]
  },
  {
   "cell_type": "code",
   "execution_count": 15,
   "metadata": {},
   "outputs": [
    {
     "data": {
      "text/plain": [
       "<AxesSubplot:>"
      ]
     },
     "execution_count": 15,
     "metadata": {},
     "output_type": "execute_result"
    },
    {
     "data": {
      "image/png": "[encoded data removed]",
      "text/plain": [
       "<Figure size 720x720 with 2 Axes>"
      ]
     },
     "metadata": {
      "needs_background": "light"
     },
     "output_type": "display_data"
    }
   ],
   "source": [
    "corrmat = training_set.corr() \n",
    "  \n",
    "f, ax = plt.subplots(figsize =(10,10)) \n",
    "sns.heatmap(corrmat, ax = ax, cmap =\"YlGnBu\", linewidths = 0.1,annot=True) "
   ]
  },
  {
   "cell_type": "markdown",
   "metadata": {},
   "source": [
    "From above, there is __positive correlation__ between __g-3__ and __c-0__, whereas all other genes exhibit negative correlation with cell viability."
   ]
  },
  {
   "cell_type": "markdown",
   "metadata": {},
   "source": [
    "### 2. How many  types of treatment are there? "
   ]
  },
  {
   "cell_type": "code",
   "execution_count": 16,
   "metadata": {},
   "outputs": [
    {
     "data": {
      "text/plain": [
       "Text(0.5, 1.0, 'Pie Plot- Dose')"
      ]
     },
     "execution_count": 16,
     "metadata": {},
     "output_type": "execute_result"
    },
    {
     "data": {
      "image/png": "[encoded data removed]",
      "text/plain": [
       "<Figure size 1584x504 with 2 Axes>"
      ]
     },
     "metadata": {
      "needs_background": "light"
     },
     "output_type": "display_data"
    }
   ],
   "source": [
    "f,ax = plt.subplots(1,2,figsize=(22,7))\n",
    "\n",
    "\n",
    "sns.countplot(x='cp_type',ax=ax[0], data=training_set).set_title('Count plot for CP_type')\n",
    "\n",
    "training_set['cp_type'].value_counts().plot.pie(autopct='%1.1f%%',ax=ax[1],shadow=True)\n",
    "ax[1].set_title('Pie Plot- Dose')"
   ]
  },
  {
   "cell_type": "markdown",
   "metadata": {},
   "source": [
    "This indicates that there are __two__ types of treatments and __trt_cp__ is the one being used the most."
   ]
  },
  {
   "cell_type": "markdown",
   "metadata": {},
   "source": [
    "### 3. How is cell viability distributed? "
   ]
  },
  {
   "cell_type": "code",
   "execution_count": 17,
   "metadata": {},
   "outputs": [
    {
     "name": "stderr",
     "output_type": "stream",
     "text": [
      "/home/rajan/anaconda3/lib/python3.8/site-packages/seaborn/distributions.py:2551: FutureWarning: `distplot` is a deprecated function and will be removed in a future version. Please adapt your code to use either `displot` (a figure-level function with similar flexibility) or `histplot` (an axes-level function for histograms).\n",
      "  warnings.warn(msg, FutureWarning)\n"
     ]
    },
    {
     "data": {
      "text/plain": [
       "<AxesSubplot:xlabel='c-0', ylabel='Density'>"
      ]
     },
     "execution_count": 17,
     "metadata": {},
     "output_type": "execute_result"
    },
    {
     "data": {
      "image/png": "[encoded data removed]",
      "text/plain": [
       "<Figure size 504x504 with 2 Axes>"
      ]
     },
     "metadata": {
      "needs_background": "light"
     },
     "output_type": "display_data"
    }
   ],
   "source": [
    "f, axes = plt.subplots(1, 2, figsize=(7, 7), sharex=True)                                    # Set up the matplotlib figure\n",
    "\n",
    "\n",
    "\n",
    "sns.distplot(training_set['c-0'], color=\"b\", ax=axes[0])\n",
    "\n"
   ]
  },
  {
   "cell_type": "markdown",
   "metadata": {},
   "source": [
    "The given variable is __left skewed__."
   ]
  },
  {
   "cell_type": "markdown",
   "metadata": {},
   "source": [
    "## 4. How much time are doses taking to take effect?"
   ]
  },
  {
   "cell_type": "code",
   "execution_count": 112,
   "metadata": {},
   "outputs": [
    {
     "data": {
      "text/plain": [
       "<AxesSubplot:xlabel='cp_dose', ylabel='count'>"
      ]
     },
     "execution_count": 112,
     "metadata": {},
     "output_type": "execute_result"
    },
    {
     "data": {
      "image/png": "[encoded data removed]",
      "text/plain": [
       "<Figure size 432x288 with 1 Axes>"
      ]
     },
     "metadata": {},
     "output_type": "display_data"
    }
   ],
   "source": [
    "sns.countplot(x='cp_dose',data=training_set,hue='cp_time')"
   ]
  },
  {
   "cell_type": "markdown",
   "metadata": {},
   "source": [
    "We see in both cases, __48 hours__ has the upper hand."
   ]
  },
  {
   "cell_type": "markdown",
   "metadata": {},
   "source": [
    "# 6. Linear Regression"
   ]
  },
  {
   "cell_type": "code",
   "execution_count": 18,
   "metadata": {},
   "outputs": [],
   "source": [
    "abc=training_set['g-0']"
   ]
  },
  {
   "cell_type": "code",
   "execution_count": 19,
   "metadata": {},
   "outputs": [],
   "source": [
    "X=pd.DataFrame(abc)"
   ]
  },
  {
   "cell_type": "code",
   "execution_count": 20,
   "metadata": {},
   "outputs": [],
   "source": [
    "abc1=training_set['c-0']"
   ]
  },
  {
   "cell_type": "code",
   "execution_count": 21,
   "metadata": {},
   "outputs": [],
   "source": [
    "y=pd.DataFrame(abc1)\n"
   ]
  },
  {
   "cell_type": "code",
   "execution_count": 22,
   "metadata": {},
   "outputs": [],
   "source": [
    "from sklearn.model_selection import train_test_split\n",
    "X_train, X_test, y_train, y_test = train_test_split(X, y, test_size = 0.20 ,random_state=0)"
   ]
  },
  {
   "cell_type": "code",
   "execution_count": 23,
   "metadata": {},
   "outputs": [
    {
     "data": {
      "text/plain": [
       "LinearRegression()"
      ]
     },
     "execution_count": 23,
     "metadata": {},
     "output_type": "execute_result"
    }
   ],
   "source": [
    "from sklearn.linear_model import LinearRegression\n",
    "\n",
    "regressor = LinearRegression()\n",
    "regressor.fit(X_train, y_train)"
   ]
  },
  {
   "cell_type": "code",
   "execution_count": 24,
   "metadata": {},
   "outputs": [],
   "source": [
    "y_pred = regressor.predict(X_test)"
   ]
  },
  {
   "cell_type": "code",
   "execution_count": 25,
   "metadata": {},
   "outputs": [
    {
     "data": {
      "image/png": "[encoded data removed]",
      "text/plain": [
       "<Figure size 432x288 with 1 Axes>"
      ]
     },
     "metadata": {},
     "output_type": "display_data"
    }
   ],
   "source": [
    "import seaborn as sns\n",
    "sns.set(color_codes=True)\n",
    "\n",
    "dataframe_training = pd.DataFrame()\n",
    "dataframe_training['g-0'] = X_train['g-0']\n",
    "dataframe_training['c-0'] = y_train\n",
    "ax = sns.regplot(x=\"g-0\", y=\"c-0\", data= dataframe_training)"
   ]
  },
  {
   "cell_type": "code",
   "execution_count": 26,
   "metadata": {},
   "outputs": [
    {
     "data": {
      "image/png": "[encoded data removed]",
      "text/plain": [
       "<Figure size 432x288 with 1 Axes>"
      ]
     },
     "metadata": {},
     "output_type": "display_data"
    }
   ],
   "source": [
    "dataframe_test = pd.DataFrame()\n",
    "dataframe_test['g-0'] = X_test['g-0']\n",
    "dataframe_test['c-0'] = y_test\n",
    "ax = sns.regplot(x=\"g-0\", y=\"c-0\", data= dataframe_test)"
   ]
  },
  {
   "cell_type": "code",
   "execution_count": 27,
   "metadata": {},
   "outputs": [
    {
     "name": "stdout",
     "output_type": "stream",
     "text": [
      "Coefficients: \n",
      " [[-0.804725]]\n",
      "Intercept: \n",
      " [-0.15764423]\n",
      "Mean squared error: 2.0935572209320785\n",
      "Variance score: 0.48320907498010224\n"
     ]
    }
   ],
   "source": [
    "print('Coefficients: \\n', regressor.coef_)\n",
    "print('Intercept: \\n', regressor.intercept_)\n",
    "from sklearn.metrics import mean_squared_error, r2_score\n",
    "\n",
    "# The mean squared error\n",
    "print(\"Mean squared error: {}\".format(mean_squared_error(y_test, y_pred)))\n",
    "\n",
    "# Best possible score is 1.0 and it can be negative (because the model can be arbitrarily worse).\n",
    "print(\"Variance score: {}\".format(r2_score(y_test, y_pred)))"
   ]
  },
  {
   "cell_type": "markdown",
   "metadata": {},
   "source": [
    "### Result"
   ]
  },
  {
   "cell_type": "code",
   "execution_count": 28,
   "metadata": {},
   "outputs": [
    {
     "data": {
      "text/html": [
       "<table class=\"simpletable\">\n",
       "<caption>OLS Regression Results</caption>\n",
       "<tr>\n",
       "  <th>Dep. Variable:</th>           <td>c-0</td>       <th>  R-squared:         </th> <td>   0.429</td> \n",
       "</tr>\n",
       "<tr>\n",
       "  <th>Model:</th>                   <td>OLS</td>       <th>  Adj. R-squared:    </th> <td>   0.429</td> \n",
       "</tr>\n",
       "<tr>\n",
       "  <th>Method:</th>             <td>Least Squares</td>  <th>  F-statistic:       </th> <td>   1586.</td> \n",
       "</tr>\n",
       "<tr>\n",
       "  <th>Date:</th>             <td>Fri, 11 Dec 2020</td> <th>  Prob (F-statistic):</th> <td>3.60e-259</td>\n",
       "</tr>\n",
       "<tr>\n",
       "  <th>Time:</th>                 <td>09:55:48</td>     <th>  Log-Likelihood:    </th> <td> -3553.7</td> \n",
       "</tr>\n",
       "<tr>\n",
       "  <th>No. Observations:</th>      <td>  2112</td>      <th>  AIC:               </th> <td>   7111.</td> \n",
       "</tr>\n",
       "<tr>\n",
       "  <th>Df Residuals:</th>          <td>  2110</td>      <th>  BIC:               </th> <td>   7123.</td> \n",
       "</tr>\n",
       "<tr>\n",
       "  <th>Df Model:</th>              <td>     1</td>      <th>                     </th>     <td> </td>    \n",
       "</tr>\n",
       "<tr>\n",
       "  <th>Covariance Type:</th>      <td>nonrobust</td>    <th>                     </th>     <td> </td>    \n",
       "</tr>\n",
       "</table>\n",
       "<table class=\"simpletable\">\n",
       "<tr>\n",
       "    <td></td>       <th>coef</th>     <th>std err</th>      <th>t</th>      <th>P>|t|</th>  <th>[0.025</th>    <th>0.975]</th>  \n",
       "</tr>\n",
       "<tr>\n",
       "  <th>const</th> <td>   -0.1641</td> <td>    0.029</td> <td>   -5.721</td> <td> 0.000</td> <td>   -0.220</td> <td>   -0.108</td>\n",
       "</tr>\n",
       "<tr>\n",
       "  <th>g-0</th>   <td>   -0.8471</td> <td>    0.021</td> <td>  -39.827</td> <td> 0.000</td> <td>   -0.889</td> <td>   -0.805</td>\n",
       "</tr>\n",
       "</table>\n",
       "<table class=\"simpletable\">\n",
       "<tr>\n",
       "  <th>Omnibus:</th>       <td>706.279</td> <th>  Durbin-Watson:     </th> <td>   1.997</td>\n",
       "</tr>\n",
       "<tr>\n",
       "  <th>Prob(Omnibus):</th> <td> 0.000</td>  <th>  Jarque-Bera (JB):  </th> <td>4513.166</td>\n",
       "</tr>\n",
       "<tr>\n",
       "  <th>Skew:</th>          <td>-1.422</td>  <th>  Prob(JB):          </th> <td>    0.00</td>\n",
       "</tr>\n",
       "<tr>\n",
       "  <th>Kurtosis:</th>      <td> 9.572</td>  <th>  Cond. No.          </th> <td>    1.40</td>\n",
       "</tr>\n",
       "</table><br/><br/>Notes:<br/>[1] Standard Errors assume that the covariance matrix of the errors is correctly specified."
      ],
      "text/plain": [
       "<class 'statsmodels.iolib.summary.Summary'>\n",
       "\"\"\"\n",
       "                            OLS Regression Results                            \n",
       "==============================================================================\n",
       "Dep. Variable:                    c-0   R-squared:                       0.429\n",
       "Model:                            OLS   Adj. R-squared:                  0.429\n",
       "Method:                 Least Squares   F-statistic:                     1586.\n",
       "Date:                Fri, 11 Dec 2020   Prob (F-statistic):          3.60e-259\n",
       "Time:                        09:55:48   Log-Likelihood:                -3553.7\n",
       "No. Observations:                2112   AIC:                             7111.\n",
       "Df Residuals:                    2110   BIC:                             7123.\n",
       "Df Model:                           1                                         \n",
       "Covariance Type:            nonrobust                                         \n",
       "==============================================================================\n",
       "                 coef    std err          t      P>|t|      [0.025      0.975]\n",
       "------------------------------------------------------------------------------\n",
       "const         -0.1641      0.029     -5.721      0.000      -0.220      -0.108\n",
       "g-0           -0.8471      0.021    -39.827      0.000      -0.889      -0.805\n",
       "==============================================================================\n",
       "Omnibus:                      706.279   Durbin-Watson:                   1.997\n",
       "Prob(Omnibus):                  0.000   Jarque-Bera (JB):             4513.166\n",
       "Skew:                          -1.422   Prob(JB):                         0.00\n",
       "Kurtosis:                       9.572   Cond. No.                         1.40\n",
       "==============================================================================\n",
       "\n",
       "Notes:\n",
       "[1] Standard Errors assume that the covariance matrix of the errors is correctly specified.\n",
       "\"\"\""
      ]
     },
     "execution_count": 28,
     "metadata": {},
     "output_type": "execute_result"
    }
   ],
   "source": [
    "import statsmodels.api as sm\n",
    "\n",
    "\n",
    "x = sm.add_constant(X)\n",
    "\n",
    "results = sm.OLS(endog = y, exog=x).fit()\n",
    "\n",
    "results.summary()"
   ]
  },
  {
   "cell_type": "markdown",
   "metadata": {},
   "source": [
    "# 7. Polynomial Regression"
   ]
  },
  {
   "cell_type": "code",
   "execution_count": 29,
   "metadata": {},
   "outputs": [],
   "source": [
    "X = np.array(X).reshape(-1, 1)\n",
    "y = np.array(y).reshape(-1, 1) "
   ]
  },
  {
   "cell_type": "code",
   "execution_count": 30,
   "metadata": {},
   "outputs": [
    {
     "data": {
      "text/plain": [
       "LinearRegression()"
      ]
     },
     "execution_count": 30,
     "metadata": {},
     "output_type": "execute_result"
    }
   ],
   "source": [
    "from sklearn.linear_model import LinearRegression\n",
    "linear_regressor = LinearRegression()\n",
    "linear_regressor.fit(X, y)"
   ]
  },
  {
   "cell_type": "code",
   "execution_count": 31,
   "metadata": {},
   "outputs": [
    {
     "data": {
      "text/plain": [
       "LinearRegression()"
      ]
     },
     "execution_count": 31,
     "metadata": {},
     "output_type": "execute_result"
    }
   ],
   "source": [
    "from sklearn.preprocessing import PolynomialFeatures\n",
    "polynomial_regressor = PolynomialFeatures(degree = 4) #try 2,3 and 4\n",
    "X_polynomial = polynomial_regressor.fit_transform(X)\n",
    "linear_regressor_2 = LinearRegression()\n",
    "linear_regressor_2.fit(X_polynomial, y)"
   ]
  },
  {
   "cell_type": "code",
   "execution_count": 32,
   "metadata": {},
   "outputs": [],
   "source": [
    "y_poly_pred = linear_regressor_2.predict(X_polynomial)"
   ]
  },
  {
   "cell_type": "code",
   "execution_count": 33,
   "metadata": {},
   "outputs": [
    {
     "data": {
      "image/png": "[encoded data removed]",
      "text/plain": [
       "<Figure size 432x288 with 1 Axes>"
      ]
     },
     "metadata": {},
     "output_type": "display_data"
    }
   ],
   "source": [
    "plt.scatter(X, y, color = 'red')\n",
    "plt.plot(X, linear_regressor.predict(X), color = 'blue')\n",
    "plt.title('Linear Regression')\n",
    "plt.xlabel('g-0')\n",
    "plt.ylabel('c-0')\n",
    "plt.show()\n"
   ]
  },
  {
   "cell_type": "code",
   "execution_count": 34,
   "metadata": {},
   "outputs": [
    {
     "data": {
      "image/png": "[encoded data removed]",
      "text/plain": [
       "<Figure size 432x288 with 1 Axes>"
      ]
     },
     "metadata": {},
     "output_type": "display_data"
    }
   ],
   "source": [
    "plt.scatter(X, y, color = 'red')\n",
    "plt.plot(X, linear_regressor_2.predict(polynomial_regressor.fit_transform(X)), color = 'blue')\n",
    "plt.title('Polynomial Regression')\n",
    "plt.xlabel('g-0')\n",
    "plt.ylabel('c-0')\n",
    "plt.show()"
   ]
  },
  {
   "cell_type": "markdown",
   "metadata": {},
   "source": [
    "## R2 Score"
   ]
  },
  {
   "cell_type": "code",
   "execution_count": 35,
   "metadata": {},
   "outputs": [
    {
     "name": "stdout",
     "output_type": "stream",
     "text": [
      "Root Mean Square Error: 1.1342955651596236\n",
      "R2 Score: 0.566538375801366\n"
     ]
    }
   ],
   "source": [
    "rmse = np.sqrt(mean_squared_error(y,y_poly_pred))\n",
    "r2 = r2_score(y,y_poly_pred)\n",
    "print(\"Root Mean Square Error:\", rmse)\n",
    "print(\"R2 Score:\", r2)"
   ]
  },
  {
   "cell_type": "code",
   "execution_count": 36,
   "metadata": {},
   "outputs": [
    {
     "data": {
      "text/html": [
       "<div>\n",
       "<style scoped>\n",
       "    .dataframe tbody tr th:only-of-type {\n",
       "        vertical-align: middle;\n",
       "    }\n",
       "\n",
       "    .dataframe tbody tr th {\n",
       "        vertical-align: top;\n",
       "    }\n",
       "\n",
       "    .dataframe thead th {\n",
       "        text-align: right;\n",
       "    }\n",
       "</style>\n",
       "<table border=\"1\" class=\"dataframe\">\n",
       "  <thead>\n",
       "    <tr style=\"text-align: right;\">\n",
       "      <th></th>\n",
       "      <th>cp_type</th>\n",
       "      <th>cp_time</th>\n",
       "      <th>cp_dose</th>\n",
       "      <th>g-0</th>\n",
       "      <th>g-1</th>\n",
       "      <th>g-2</th>\n",
       "      <th>g-3</th>\n",
       "      <th>g-4</th>\n",
       "      <th>c-0</th>\n",
       "    </tr>\n",
       "  </thead>\n",
       "  <tbody>\n",
       "    <tr>\n",
       "      <th>0</th>\n",
       "      <td>trt_cp</td>\n",
       "      <td>24</td>\n",
       "      <td>D1</td>\n",
       "      <td>1.0620</td>\n",
       "      <td>0.5577</td>\n",
       "      <td>-0.2479</td>\n",
       "      <td>-0.6208</td>\n",
       "      <td>-0.1944</td>\n",
       "      <td>-0.0600</td>\n",
       "    </tr>\n",
       "    <tr>\n",
       "      <th>1</th>\n",
       "      <td>trt_cp</td>\n",
       "      <td>72</td>\n",
       "      <td>D1</td>\n",
       "      <td>0.0743</td>\n",
       "      <td>0.4087</td>\n",
       "      <td>0.2991</td>\n",
       "      <td>0.0604</td>\n",
       "      <td>1.0190</td>\n",
       "      <td>0.0927</td>\n",
       "    </tr>\n",
       "    <tr>\n",
       "      <th>2</th>\n",
       "      <td>trt_cp</td>\n",
       "      <td>48</td>\n",
       "      <td>D1</td>\n",
       "      <td>0.6280</td>\n",
       "      <td>0.5817</td>\n",
       "      <td>1.5540</td>\n",
       "      <td>-0.0764</td>\n",
       "      <td>-0.0323</td>\n",
       "      <td>-0.1312</td>\n",
       "    </tr>\n",
       "    <tr>\n",
       "      <th>3</th>\n",
       "      <td>trt_cp</td>\n",
       "      <td>48</td>\n",
       "      <td>D1</td>\n",
       "      <td>-0.5138</td>\n",
       "      <td>-0.2491</td>\n",
       "      <td>-0.2656</td>\n",
       "      <td>0.5288</td>\n",
       "      <td>4.0620</td>\n",
       "      <td>-0.3998</td>\n",
       "    </tr>\n",
       "    <tr>\n",
       "      <th>4</th>\n",
       "      <td>trt_cp</td>\n",
       "      <td>72</td>\n",
       "      <td>D2</td>\n",
       "      <td>-0.3254</td>\n",
       "      <td>-0.4009</td>\n",
       "      <td>0.9700</td>\n",
       "      <td>0.6919</td>\n",
       "      <td>1.4180</td>\n",
       "      <td>-0.3774</td>\n",
       "    </tr>\n",
       "    <tr>\n",
       "      <th>...</th>\n",
       "      <td>...</td>\n",
       "      <td>...</td>\n",
       "      <td>...</td>\n",
       "      <td>...</td>\n",
       "      <td>...</td>\n",
       "      <td>...</td>\n",
       "      <td>...</td>\n",
       "      <td>...</td>\n",
       "      <td>...</td>\n",
       "    </tr>\n",
       "    <tr>\n",
       "      <th>2107</th>\n",
       "      <td>trt_cp</td>\n",
       "      <td>72</td>\n",
       "      <td>D1</td>\n",
       "      <td>-0.7991</td>\n",
       "      <td>0.3067</td>\n",
       "      <td>0.4350</td>\n",
       "      <td>-1.4600</td>\n",
       "      <td>0.4923</td>\n",
       "      <td>0.3486</td>\n",
       "    </tr>\n",
       "    <tr>\n",
       "      <th>2108</th>\n",
       "      <td>trt_cp</td>\n",
       "      <td>24</td>\n",
       "      <td>D2</td>\n",
       "      <td>-0.3627</td>\n",
       "      <td>0.1414</td>\n",
       "      <td>0.6238</td>\n",
       "      <td>-0.1841</td>\n",
       "      <td>0.6299</td>\n",
       "      <td>-0.4333</td>\n",
       "    </tr>\n",
       "    <tr>\n",
       "      <th>2109</th>\n",
       "      <td>trt_cp</td>\n",
       "      <td>48</td>\n",
       "      <td>D2</td>\n",
       "      <td>0.7183</td>\n",
       "      <td>0.4706</td>\n",
       "      <td>-0.9542</td>\n",
       "      <td>1.4390</td>\n",
       "      <td>0.7732</td>\n",
       "      <td>-0.3688</td>\n",
       "    </tr>\n",
       "    <tr>\n",
       "      <th>2110</th>\n",
       "      <td>trt_cp</td>\n",
       "      <td>48</td>\n",
       "      <td>D1</td>\n",
       "      <td>-0.9685</td>\n",
       "      <td>0.5579</td>\n",
       "      <td>-0.6941</td>\n",
       "      <td>-0.0819</td>\n",
       "      <td>-0.7420</td>\n",
       "      <td>0.3486</td>\n",
       "    </tr>\n",
       "    <tr>\n",
       "      <th>2111</th>\n",
       "      <td>trt_cp</td>\n",
       "      <td>48</td>\n",
       "      <td>D2</td>\n",
       "      <td>0.1313</td>\n",
       "      <td>-0.0127</td>\n",
       "      <td>-0.5824</td>\n",
       "      <td>0.4845</td>\n",
       "      <td>-1.2760</td>\n",
       "      <td>-0.4333</td>\n",
       "    </tr>\n",
       "  </tbody>\n",
       "</table>\n",
       "<p>2112 rows × 9 columns</p>\n",
       "</div>"
      ],
      "text/plain": [
       "     cp_type  cp_time cp_dose     g-0     g-1     g-2     g-3     g-4     c-0\n",
       "0     trt_cp       24      D1  1.0620  0.5577 -0.2479 -0.6208 -0.1944 -0.0600\n",
       "1     trt_cp       72      D1  0.0743  0.4087  0.2991  0.0604  1.0190  0.0927\n",
       "2     trt_cp       48      D1  0.6280  0.5817  1.5540 -0.0764 -0.0323 -0.1312\n",
       "3     trt_cp       48      D1 -0.5138 -0.2491 -0.2656  0.5288  4.0620 -0.3998\n",
       "4     trt_cp       72      D2 -0.3254 -0.4009  0.9700  0.6919  1.4180 -0.3774\n",
       "...      ...      ...     ...     ...     ...     ...     ...     ...     ...\n",
       "2107  trt_cp       72      D1 -0.7991  0.3067  0.4350 -1.4600  0.4923  0.3486\n",
       "2108  trt_cp       24      D2 -0.3627  0.1414  0.6238 -0.1841  0.6299 -0.4333\n",
       "2109  trt_cp       48      D2  0.7183  0.4706 -0.9542  1.4390  0.7732 -0.3688\n",
       "2110  trt_cp       48      D1 -0.9685  0.5579 -0.6941 -0.0819 -0.7420  0.3486\n",
       "2111  trt_cp       48      D2  0.1313 -0.0127 -0.5824  0.4845 -1.2760 -0.4333\n",
       "\n",
       "[2112 rows x 9 columns]"
      ]
     },
     "execution_count": 36,
     "metadata": {},
     "output_type": "execute_result"
    }
   ],
   "source": [
    "training_set"
   ]
  },
  {
   "cell_type": "markdown",
   "metadata": {},
   "source": [
    "## Dropping Target"
   ]
  },
  {
   "cell_type": "code",
   "execution_count": 37,
   "metadata": {},
   "outputs": [],
   "source": [
    "X = training_set.drop(['cp_type','cp_dose'],axis=1).values\n",
    "y = training_set['cp_type'].values\n"
   ]
  },
  {
   "cell_type": "markdown",
   "metadata": {},
   "source": [
    "\n",
    "\n",
    "## Feature Scaling"
   ]
  },
  {
   "cell_type": "markdown",
   "metadata": {},
   "source": [
    "We now have training and testing set ready for model building. Before that, we should map all the feature variables onto the same scale. It is called `feature scaling`. I will do it as follows."
   ]
  },
  {
   "cell_type": "code",
   "execution_count": 38,
   "metadata": {},
   "outputs": [],
   "source": [
    "from sklearn.preprocessing import StandardScaler\n",
    "sc = StandardScaler()\n",
    "X = sc.fit_transform(X)"
   ]
  },
  {
   "cell_type": "markdown",
   "metadata": {},
   "source": [
    "#  8. Logistic Regression"
   ]
  },
  {
   "cell_type": "code",
   "execution_count": 39,
   "metadata": {},
   "outputs": [],
   "source": [
    "# split X and y into training and testing sets\n",
    "\n",
    "from sklearn.model_selection import train_test_split\n",
    "\n",
    "\n"
   ]
  },
  {
   "cell_type": "code",
   "execution_count": 40,
   "metadata": {},
   "outputs": [],
   "source": [
    "# check the shape of X_train and X_test\n",
    "\n",
    "X_train, X_test, y_train, y_test = train_test_split(X, y, test_size=0.25, random_state=0)"
   ]
  },
  {
   "cell_type": "code",
   "execution_count": 41,
   "metadata": {},
   "outputs": [
    {
     "data": {
      "text/plain": [
       "array([[-1.2311012 ,  0.0255221 ,  0.54909417, ..., -2.88915131,\n",
       "        -0.16779152,  0.27909543],\n",
       "       [ 1.25226626, -0.51508003,  0.71476311, ..., -1.16655604,\n",
       "         1.11421098, -2.70785018],\n",
       "       [ 1.25226626, -0.68184636, -2.1974189 , ...,  0.85386014,\n",
       "        -2.36963058,  0.09695681],\n",
       "       ...,\n",
       "       [ 1.25226626,  0.11198242, -0.69200848, ...,  0.93785268,\n",
       "        -1.32122954,  0.02330038],\n",
       "       [ 1.25226626, -1.19437891,  0.04544583, ...,  0.04107728,\n",
       "        -0.49097468, -0.63920127],\n",
       "       [-1.2311012 ,  0.71420253,  0.02982597, ...,  1.22391891,\n",
       "         0.80254547,  0.36041353]])"
      ]
     },
     "execution_count": 41,
     "metadata": {},
     "output_type": "execute_result"
    }
   ],
   "source": [
    "X_train"
   ]
  },
  {
   "cell_type": "code",
   "execution_count": 42,
   "metadata": {},
   "outputs": [
    {
     "data": {
      "text/plain": [
       "array(['trt_cp', 'trt_cp', 'trt_cp', ..., 'trt_cp', 'trt_cp', 'trt_cp'],\n",
       "      dtype=object)"
      ]
     },
     "execution_count": 42,
     "metadata": {},
     "output_type": "execute_result"
    }
   ],
   "source": [
    "y_train"
   ]
  },
  {
   "cell_type": "code",
   "execution_count": 43,
   "metadata": {},
   "outputs": [
    {
     "data": {
      "text/plain": [
       "LogisticRegression(random_state=0)"
      ]
     },
     "execution_count": 43,
     "metadata": {},
     "output_type": "execute_result"
    }
   ],
   "source": [
    "# Fitting Logistic Regression to the Training set\n",
    "from sklearn.linear_model import LogisticRegression\n",
    "classifier = LogisticRegression(random_state = 0)\n",
    "classifier.fit(X_train, y_train)"
   ]
  },
  {
   "cell_type": "code",
   "execution_count": 44,
   "metadata": {},
   "outputs": [
    {
     "data": {
      "text/plain": [
       "array([[0.11367879, 0.88632121],\n",
       "       [0.00593991, 0.99406009],\n",
       "       [0.1570408 , 0.8429592 ],\n",
       "       ...,\n",
       "       [0.06855536, 0.93144464],\n",
       "       [0.07065226, 0.92934774],\n",
       "       [0.04808567, 0.95191433]])"
      ]
     },
     "execution_count": 44,
     "metadata": {},
     "output_type": "execute_result"
    }
   ],
   "source": [
    "\n",
    "y_proba = classifier.predict_proba(X_train)\n",
    "y_proba"
   ]
  },
  {
   "cell_type": "code",
   "execution_count": 45,
   "metadata": {},
   "outputs": [
    {
     "data": {
      "text/plain": [
       "array(['trt_cp', 'trt_cp', 'trt_cp', ..., 'trt_cp', 'trt_cp', 'trt_cp'],\n",
       "      dtype=object)"
      ]
     },
     "execution_count": 45,
     "metadata": {},
     "output_type": "execute_result"
    }
   ],
   "source": [
    "y_predict_train = classifier.predict(X_train)\n",
    "y_predict_train"
   ]
  },
  {
   "cell_type": "code",
   "execution_count": 46,
   "metadata": {},
   "outputs": [
    {
     "data": {
      "text/plain": [
       "array(['trt_cp', 'trt_cp', 'trt_cp', ..., 'trt_cp', 'trt_cp', 'trt_cp'],\n",
       "      dtype=object)"
      ]
     },
     "execution_count": 46,
     "metadata": {},
     "output_type": "execute_result"
    }
   ],
   "source": [
    "y_train"
   ]
  },
  {
   "cell_type": "markdown",
   "metadata": {},
   "source": [
    "## Confusion matrix\n",
    "\n",
    "\n",
    "A confusion matrix is a tool for summarizing the performance of a classification algorithm. A confusion matrix will give us a clear picture of classification model performance and the types of errors produced by the model. It gives us a summary of correct and incorrect predictions broken down by each category. The summary is represented in a tabular form.\n",
    "\n",
    "\n",
    "Four types of outcomes are possible while evaluating a classification model performance. These four outcomes are described below:-\n",
    "\n",
    "\n",
    "**True Positives (TP)** – True Positives occur when we predict an observation belongs to a certain class and the observation actually belongs to that class.\n",
    "\n",
    "\n",
    "**True Negatives (TN)** – True Negatives occur when we predict an observation does not belong to a certain class and the observation actually does not belong to that class.\n",
    "\n",
    "\n",
    "**False Positives (FP)** – False Positives occur when we predict an observation belongs to a    certain class but the observation actually does not belong to that class. This type of error is called **Type I error.**\n",
    "\n",
    "\n",
    "\n",
    "**False Negatives (FN)** – False Negatives occur when we predict an observation does not belong to a certain class but the observation actually belongs to that class. This is a very serious error and it is called **Type II error.**\n",
    "\n",
    "\n",
    "\n",
    "These four outcomes are summarized in a confusion matrix given below.\n"
   ]
  },
  {
   "cell_type": "code",
   "execution_count": 47,
   "metadata": {},
   "outputs": [
    {
     "data": {
      "text/plain": [
       "<AxesSubplot:>"
      ]
     },
     "execution_count": 47,
     "metadata": {},
     "output_type": "execute_result"
    },
    {
     "data": {
      "image/png": "[encoded data removed]",
      "text/plain": [
       "<Figure size 432x288 with 2 Axes>"
      ]
     },
     "metadata": {},
     "output_type": "display_data"
    }
   ],
   "source": [
    "from sklearn.metrics import classification_report, confusion_matrix\n",
    "cm = confusion_matrix(y_train, y_predict_train)\n",
    "sns.heatmap(cm, annot=True, fmt=\"d\")"
   ]
  },
  {
   "cell_type": "code",
   "execution_count": 48,
   "metadata": {},
   "outputs": [
    {
     "data": {
      "text/plain": [
       "array(['trt_cp', 'trt_cp', 'trt_cp', 'trt_cp', 'trt_cp', 'trt_cp',\n",
       "       'trt_cp', 'trt_cp', 'trt_cp', 'trt_cp', 'trt_cp', 'trt_cp',\n",
       "       'trt_cp', 'trt_cp', 'trt_cp', 'trt_cp', 'trt_cp', 'trt_cp',\n",
       "       'trt_cp', 'trt_cp', 'trt_cp', 'trt_cp', 'trt_cp', 'trt_cp',\n",
       "       'trt_cp', 'trt_cp', 'trt_cp', 'trt_cp', 'trt_cp', 'trt_cp',\n",
       "       'trt_cp', 'trt_cp', 'trt_cp', 'trt_cp', 'trt_cp', 'trt_cp',\n",
       "       'trt_cp', 'trt_cp', 'trt_cp', 'trt_cp', 'trt_cp', 'trt_cp',\n",
       "       'trt_cp', 'trt_cp', 'trt_cp', 'trt_cp', 'trt_cp', 'trt_cp',\n",
       "       'trt_cp', 'trt_cp', 'trt_cp', 'trt_cp', 'trt_cp', 'trt_cp',\n",
       "       'trt_cp', 'trt_cp', 'trt_cp', 'trt_cp', 'trt_cp', 'trt_cp',\n",
       "       'trt_cp', 'trt_cp', 'trt_cp', 'trt_cp', 'trt_cp', 'trt_cp',\n",
       "       'trt_cp', 'trt_cp', 'trt_cp', 'trt_cp', 'trt_cp', 'trt_cp',\n",
       "       'trt_cp', 'trt_cp', 'trt_cp', 'trt_cp', 'trt_cp', 'trt_cp',\n",
       "       'trt_cp', 'trt_cp', 'trt_cp', 'trt_cp', 'trt_cp', 'trt_cp',\n",
       "       'trt_cp', 'trt_cp', 'trt_cp', 'trt_cp', 'trt_cp', 'trt_cp',\n",
       "       'trt_cp', 'trt_cp', 'trt_cp', 'trt_cp', 'trt_cp', 'trt_cp',\n",
       "       'trt_cp', 'trt_cp', 'trt_cp', 'trt_cp', 'trt_cp', 'trt_cp',\n",
       "       'trt_cp', 'trt_cp', 'trt_cp', 'trt_cp', 'trt_cp', 'trt_cp',\n",
       "       'trt_cp', 'trt_cp', 'trt_cp', 'trt_cp', 'trt_cp', 'trt_cp',\n",
       "       'trt_cp', 'trt_cp', 'trt_cp', 'trt_cp', 'trt_cp', 'trt_cp',\n",
       "       'trt_cp', 'trt_cp', 'trt_cp', 'trt_cp', 'trt_cp', 'trt_cp',\n",
       "       'trt_cp', 'trt_cp', 'trt_cp', 'trt_cp', 'trt_cp', 'trt_cp',\n",
       "       'trt_cp', 'trt_cp', 'trt_cp', 'trt_cp', 'trt_cp', 'trt_cp',\n",
       "       'trt_cp', 'trt_cp', 'trt_cp', 'trt_cp', 'trt_cp', 'trt_cp',\n",
       "       'trt_cp', 'trt_cp', 'trt_cp', 'trt_cp', 'trt_cp', 'trt_cp',\n",
       "       'trt_cp', 'trt_cp', 'trt_cp', 'trt_cp', 'trt_cp', 'trt_cp',\n",
       "       'trt_cp', 'trt_cp', 'trt_cp', 'trt_cp', 'trt_cp', 'trt_cp',\n",
       "       'trt_cp', 'trt_cp', 'trt_cp', 'trt_cp', 'trt_cp', 'trt_cp',\n",
       "       'trt_cp', 'trt_cp', 'trt_cp', 'trt_cp', 'trt_cp', 'trt_cp',\n",
       "       'trt_cp', 'trt_cp', 'trt_cp', 'trt_cp', 'trt_cp', 'trt_cp',\n",
       "       'trt_cp', 'trt_cp', 'trt_cp', 'trt_cp', 'trt_cp', 'trt_cp',\n",
       "       'trt_cp', 'trt_cp', 'trt_cp', 'trt_cp', 'trt_cp', 'trt_cp',\n",
       "       'trt_cp', 'trt_cp', 'trt_cp', 'trt_cp', 'trt_cp', 'trt_cp',\n",
       "       'trt_cp', 'trt_cp', 'trt_cp', 'trt_cp', 'trt_cp', 'trt_cp',\n",
       "       'trt_cp', 'trt_cp', 'trt_cp', 'trt_cp', 'trt_cp', 'trt_cp',\n",
       "       'trt_cp', 'trt_cp', 'trt_cp', 'trt_cp', 'trt_cp', 'trt_cp',\n",
       "       'trt_cp', 'trt_cp', 'trt_cp', 'trt_cp', 'trt_cp', 'trt_cp',\n",
       "       'trt_cp', 'trt_cp', 'trt_cp', 'trt_cp', 'trt_cp', 'trt_cp',\n",
       "       'trt_cp', 'trt_cp', 'trt_cp', 'trt_cp', 'trt_cp', 'trt_cp',\n",
       "       'trt_cp', 'trt_cp', 'trt_cp', 'trt_cp', 'trt_cp', 'trt_cp',\n",
       "       'trt_cp', 'trt_cp', 'trt_cp', 'trt_cp', 'trt_cp', 'trt_cp',\n",
       "       'trt_cp', 'trt_cp', 'trt_cp', 'trt_cp', 'trt_cp', 'trt_cp',\n",
       "       'trt_cp', 'trt_cp', 'trt_cp', 'trt_cp', 'trt_cp', 'trt_cp',\n",
       "       'trt_cp', 'trt_cp', 'trt_cp', 'trt_cp', 'trt_cp', 'trt_cp',\n",
       "       'trt_cp', 'trt_cp', 'trt_cp', 'trt_cp', 'trt_cp', 'trt_cp',\n",
       "       'trt_cp', 'trt_cp', 'trt_cp', 'trt_cp', 'trt_cp', 'trt_cp',\n",
       "       'trt_cp', 'trt_cp', 'trt_cp', 'trt_cp', 'trt_cp', 'trt_cp',\n",
       "       'trt_cp', 'trt_cp', 'trt_cp', 'trt_cp', 'trt_cp', 'trt_cp',\n",
       "       'trt_cp', 'trt_cp', 'trt_cp', 'trt_cp', 'trt_cp', 'trt_cp',\n",
       "       'trt_cp', 'trt_cp', 'trt_cp', 'trt_cp', 'trt_cp', 'trt_cp',\n",
       "       'trt_cp', 'trt_cp', 'trt_cp', 'trt_cp', 'trt_cp', 'trt_cp',\n",
       "       'trt_cp', 'trt_cp', 'trt_cp', 'trt_cp', 'trt_cp', 'trt_cp',\n",
       "       'trt_cp', 'trt_cp', 'trt_cp', 'trt_cp', 'trt_cp', 'trt_cp',\n",
       "       'trt_cp', 'trt_cp', 'trt_cp', 'trt_cp', 'trt_cp', 'trt_cp',\n",
       "       'trt_cp', 'trt_cp', 'trt_cp', 'trt_cp', 'trt_cp', 'trt_cp',\n",
       "       'trt_cp', 'trt_cp', 'trt_cp', 'trt_cp', 'trt_cp', 'trt_cp',\n",
       "       'trt_cp', 'trt_cp', 'trt_cp', 'trt_cp', 'trt_cp', 'trt_cp',\n",
       "       'trt_cp', 'trt_cp', 'trt_cp', 'trt_cp', 'trt_cp', 'trt_cp',\n",
       "       'trt_cp', 'trt_cp', 'trt_cp', 'trt_cp', 'trt_cp', 'trt_cp',\n",
       "       'trt_cp', 'trt_cp', 'trt_cp', 'trt_cp', 'trt_cp', 'trt_cp',\n",
       "       'trt_cp', 'trt_cp', 'trt_cp', 'trt_cp', 'trt_cp', 'trt_cp',\n",
       "       'trt_cp', 'trt_cp', 'trt_cp', 'trt_cp', 'trt_cp', 'trt_cp',\n",
       "       'trt_cp', 'trt_cp', 'trt_cp', 'trt_cp', 'trt_cp', 'trt_cp',\n",
       "       'trt_cp', 'trt_cp', 'trt_cp', 'trt_cp', 'trt_cp', 'trt_cp',\n",
       "       'trt_cp', 'trt_cp', 'trt_cp', 'trt_cp', 'trt_cp', 'trt_cp',\n",
       "       'trt_cp', 'trt_cp', 'trt_cp', 'trt_cp', 'trt_cp', 'trt_cp',\n",
       "       'trt_cp', 'trt_cp', 'trt_cp', 'trt_cp', 'trt_cp', 'trt_cp',\n",
       "       'trt_cp', 'trt_cp', 'trt_cp', 'trt_cp', 'trt_cp', 'trt_cp',\n",
       "       'trt_cp', 'trt_cp', 'trt_cp', 'trt_cp', 'trt_cp', 'trt_cp',\n",
       "       'trt_cp', 'trt_cp', 'trt_cp', 'trt_cp', 'trt_cp', 'trt_cp',\n",
       "       'trt_cp', 'trt_cp', 'trt_cp', 'trt_cp', 'trt_cp', 'trt_cp',\n",
       "       'trt_cp', 'trt_cp', 'trt_cp', 'trt_cp', 'trt_cp', 'trt_cp',\n",
       "       'trt_cp', 'trt_cp', 'trt_cp', 'trt_cp', 'trt_cp', 'trt_cp',\n",
       "       'trt_cp', 'trt_cp', 'trt_cp', 'trt_cp', 'trt_cp', 'trt_cp',\n",
       "       'trt_cp', 'trt_cp', 'trt_cp', 'trt_cp', 'trt_cp', 'trt_cp',\n",
       "       'trt_cp', 'trt_cp', 'trt_cp', 'trt_cp', 'trt_cp', 'trt_cp',\n",
       "       'trt_cp', 'trt_cp', 'trt_cp', 'trt_cp', 'trt_cp', 'trt_cp',\n",
       "       'trt_cp', 'trt_cp', 'trt_cp', 'trt_cp', 'trt_cp', 'trt_cp',\n",
       "       'trt_cp', 'trt_cp', 'trt_cp', 'trt_cp', 'trt_cp', 'trt_cp',\n",
       "       'trt_cp', 'trt_cp', 'trt_cp', 'trt_cp', 'trt_cp', 'trt_cp',\n",
       "       'trt_cp', 'trt_cp', 'trt_cp', 'trt_cp', 'trt_cp', 'trt_cp',\n",
       "       'trt_cp', 'trt_cp', 'trt_cp', 'trt_cp', 'trt_cp', 'trt_cp',\n",
       "       'trt_cp', 'trt_cp', 'trt_cp', 'trt_cp', 'trt_cp', 'trt_cp',\n",
       "       'trt_cp', 'trt_cp', 'trt_cp', 'trt_cp', 'trt_cp', 'trt_cp',\n",
       "       'trt_cp', 'trt_cp', 'trt_cp', 'trt_cp', 'trt_cp', 'trt_cp',\n",
       "       'trt_cp', 'trt_cp', 'trt_cp', 'trt_cp', 'trt_cp', 'trt_cp',\n",
       "       'trt_cp', 'trt_cp', 'trt_cp', 'trt_cp', 'trt_cp', 'trt_cp',\n",
       "       'trt_cp', 'trt_cp', 'trt_cp', 'trt_cp', 'trt_cp', 'trt_cp'],\n",
       "      dtype=object)"
      ]
     },
     "execution_count": 48,
     "metadata": {},
     "output_type": "execute_result"
    }
   ],
   "source": [
    "y_predict_test = classifier.predict(X_test)\n",
    "y_predict_test"
   ]
  },
  {
   "cell_type": "code",
   "execution_count": 49,
   "metadata": {},
   "outputs": [
    {
     "data": {
      "text/plain": [
       "<AxesSubplot:>"
      ]
     },
     "execution_count": 49,
     "metadata": {},
     "output_type": "execute_result"
    },
    {
     "data": {
      "image/png": "[encoded data removed]",
      "text/plain": [
       "<Figure size 432x288 with 2 Axes>"
      ]
     },
     "metadata": {},
     "output_type": "display_data"
    }
   ],
   "source": [
    "cm = confusion_matrix(y_test, y_predict_test)\n",
    "sns.heatmap(cm, annot=True, fmt=\"d\")"
   ]
  },
  {
   "cell_type": "markdown",
   "metadata": {},
   "source": [
    "## Classification Report"
   ]
  },
  {
   "cell_type": "code",
   "execution_count": 50,
   "metadata": {},
   "outputs": [
    {
     "name": "stdout",
     "output_type": "stream",
     "text": [
      "              precision    recall  f1-score   support\n",
      "\n",
      " ctl_vehicle       0.00      0.00      0.00        32\n",
      "      trt_cp       0.94      1.00      0.97       496\n",
      "\n",
      "    accuracy                           0.94       528\n",
      "   macro avg       0.47      0.50      0.48       528\n",
      "weighted avg       0.88      0.94      0.91       528\n",
      "\n"
     ]
    },
    {
     "name": "stderr",
     "output_type": "stream",
     "text": [
      "/home/rajan/anaconda3/lib/python3.8/site-packages/sklearn/metrics/_classification.py:1221: UndefinedMetricWarning: Precision and F-score are ill-defined and being set to 0.0 in labels with no predicted samples. Use `zero_division` parameter to control this behavior.\n",
      "  _warn_prf(average, modifier, msg_start, len(result))\n"
     ]
    }
   ],
   "source": [
    "from sklearn.metrics import classification_report\n",
    "print(classification_report(y_test, y_predict_test))"
   ]
  },
  {
   "cell_type": "code",
   "execution_count": 51,
   "metadata": {},
   "outputs": [
    {
     "name": "stdout",
     "output_type": "stream",
     "text": [
      "Accuracy:  93.93939393939394 %\n"
     ]
    }
   ],
   "source": [
    "from sklearn import metrics\n",
    "print(\"Accuracy: \", metrics.accuracy_score(y_test,y_predict_test)*100,\"%\")"
   ]
  },
  {
   "cell_type": "markdown",
   "metadata": {},
   "source": [
    "# 9. Decision Tree"
   ]
  },
  {
   "cell_type": "code",
   "execution_count": 52,
   "metadata": {},
   "outputs": [
    {
     "data": {
      "text/plain": [
       "DecisionTreeClassifier(criterion='entropy')"
      ]
     },
     "execution_count": 52,
     "metadata": {},
     "output_type": "execute_result"
    }
   ],
   "source": [
    "from sklearn.tree import DecisionTreeClassifier\n",
    "classifier = DecisionTreeClassifier(criterion = 'entropy')\n",
    "classifier.fit(X_train, y_train)"
   ]
  },
  {
   "cell_type": "code",
   "execution_count": 53,
   "metadata": {},
   "outputs": [],
   "source": [
    "y_pred = classifier.predict(X_test)\n"
   ]
  },
  {
   "cell_type": "markdown",
   "metadata": {},
   "source": [
    "## Confusion Matrix"
   ]
  },
  {
   "cell_type": "code",
   "execution_count": 54,
   "metadata": {},
   "outputs": [
    {
     "data": {
      "text/plain": [
       "<AxesSubplot:>"
      ]
     },
     "execution_count": 54,
     "metadata": {},
     "output_type": "execute_result"
    },
    {
     "data": {
      "image/png": "[encoded data removed]",
      "text/plain": [
       "<Figure size 432x288 with 2 Axes>"
      ]
     },
     "metadata": {},
     "output_type": "display_data"
    }
   ],
   "source": [
    "cm = confusion_matrix(y_train, y_predict_train)\n",
    "sns.heatmap(cm, annot=True, fmt=\"d\")"
   ]
  },
  {
   "cell_type": "code",
   "execution_count": 55,
   "metadata": {},
   "outputs": [
    {
     "data": {
      "text/plain": [
       "<AxesSubplot:>"
      ]
     },
     "execution_count": 55,
     "metadata": {},
     "output_type": "execute_result"
    },
    {
     "data": {
      "image/png": "[encoded data removed]",
      "text/plain": [
       "<Figure size 432x288 with 2 Axes>"
      ]
     },
     "metadata": {},
     "output_type": "display_data"
    }
   ],
   "source": [
    "from sklearn.metrics import confusion_matrix\n",
    "cm = confusion_matrix(y_test, y_pred)\n",
    "sns.heatmap(cm, annot=True, fmt=\"d\")"
   ]
  },
  {
   "cell_type": "markdown",
   "metadata": {},
   "source": [
    "## Classification Report"
   ]
  },
  {
   "cell_type": "code",
   "execution_count": 56,
   "metadata": {},
   "outputs": [
    {
     "name": "stdout",
     "output_type": "stream",
     "text": [
      "              precision    recall  f1-score   support\n",
      "\n",
      " ctl_vehicle       0.13      0.22      0.17        32\n",
      "      trt_cp       0.95      0.91      0.93       496\n",
      "\n",
      "    accuracy                           0.87       528\n",
      "   macro avg       0.54      0.56      0.55       528\n",
      "weighted avg       0.90      0.87      0.88       528\n",
      "\n"
     ]
    }
   ],
   "source": [
    "from sklearn.metrics import classification_report\n",
    "print(classification_report(y_test, y_pred))"
   ]
  },
  {
   "cell_type": "code",
   "execution_count": 57,
   "metadata": {
    "scrolled": true
   },
   "outputs": [
    {
     "name": "stdout",
     "output_type": "stream",
     "text": [
      "Accuracy:  86.74242424242425 %\n"
     ]
    }
   ],
   "source": [
    "from sklearn import metrics\n",
    "print(\"Accuracy: \", metrics.accuracy_score(y_test,y_pred)*100,\"%\")"
   ]
  },
  {
   "cell_type": "markdown",
   "metadata": {},
   "source": [
    "# 10. Naive Bayes"
   ]
  },
  {
   "cell_type": "code",
   "execution_count": 58,
   "metadata": {},
   "outputs": [
    {
     "data": {
      "text/plain": [
       "GaussianNB()"
      ]
     },
     "execution_count": 58,
     "metadata": {},
     "output_type": "execute_result"
    }
   ],
   "source": [
    "from sklearn.naive_bayes import GaussianNB\n",
    "classifier = GaussianNB()\n",
    "classifier.fit(X_train, y_train)"
   ]
  },
  {
   "cell_type": "code",
   "execution_count": 59,
   "metadata": {},
   "outputs": [],
   "source": [
    "y_pred = classifier.predict(X_test)"
   ]
  },
  {
   "cell_type": "markdown",
   "metadata": {},
   "source": [
    "## Confusion Matrix"
   ]
  },
  {
   "cell_type": "code",
   "execution_count": 60,
   "metadata": {},
   "outputs": [
    {
     "data": {
      "text/plain": [
       "<AxesSubplot:>"
      ]
     },
     "execution_count": 60,
     "metadata": {},
     "output_type": "execute_result"
    },
    {
     "data": {
      "image/png": "[encoded data removed]",
      "text/plain": [
       "<Figure size 432x288 with 2 Axes>"
      ]
     },
     "metadata": {},
     "output_type": "display_data"
    }
   ],
   "source": [
    "cm = confusion_matrix(y_train, y_predict_train)\n",
    "sns.heatmap(cm, annot=True, fmt=\"d\")"
   ]
  },
  {
   "cell_type": "code",
   "execution_count": 61,
   "metadata": {},
   "outputs": [
    {
     "data": {
      "text/plain": [
       "<AxesSubplot:>"
      ]
     },
     "execution_count": 61,
     "metadata": {},
     "output_type": "execute_result"
    },
    {
     "data": {
      "image/png": "[encoded data removed]",
      "text/plain": [
       "<Figure size 432x288 with 2 Axes>"
      ]
     },
     "metadata": {},
     "output_type": "display_data"
    }
   ],
   "source": [
    "cm = confusion_matrix(y_test, y_pred)\n",
    "sns.heatmap(cm, annot=True, fmt=\"d\")"
   ]
  },
  {
   "cell_type": "markdown",
   "metadata": {},
   "source": [
    "## Classification Report"
   ]
  },
  {
   "cell_type": "code",
   "execution_count": 62,
   "metadata": {},
   "outputs": [
    {
     "name": "stdout",
     "output_type": "stream",
     "text": [
      "              precision    recall  f1-score   support\n",
      "\n",
      " ctl_vehicle       0.67      0.12      0.21        32\n",
      "      trt_cp       0.95      1.00      0.97       496\n",
      "\n",
      "    accuracy                           0.94       528\n",
      "   macro avg       0.81      0.56      0.59       528\n",
      "weighted avg       0.93      0.94      0.92       528\n",
      "\n"
     ]
    }
   ],
   "source": [
    "print(classification_report(y_test, y_pred))"
   ]
  },
  {
   "cell_type": "code",
   "execution_count": 63,
   "metadata": {},
   "outputs": [
    {
     "name": "stdout",
     "output_type": "stream",
     "text": [
      "Accuracy:  94.31818181818183 %\n"
     ]
    }
   ],
   "source": [
    "print(\"Accuracy: \", metrics.accuracy_score(y_test,y_pred)*100,\"%\")"
   ]
  },
  {
   "cell_type": "markdown",
   "metadata": {},
   "source": [
    "# 11. SVM"
   ]
  },
  {
   "cell_type": "code",
   "execution_count": 64,
   "metadata": {},
   "outputs": [
    {
     "data": {
      "text/plain": [
       "SVC()"
      ]
     },
     "execution_count": 64,
     "metadata": {},
     "output_type": "execute_result"
    }
   ],
   "source": [
    "from sklearn.svm import SVC\n",
    "classifier = SVC(kernel = 'rbf')\n",
    "classifier.fit(X_train, y_train)"
   ]
  },
  {
   "cell_type": "code",
   "execution_count": 65,
   "metadata": {},
   "outputs": [],
   "source": [
    "y_pred = classifier.predict(X_test)"
   ]
  },
  {
   "cell_type": "markdown",
   "metadata": {},
   "source": [
    "## Confusion Matrix"
   ]
  },
  {
   "cell_type": "code",
   "execution_count": 66,
   "metadata": {},
   "outputs": [
    {
     "data": {
      "text/plain": [
       "<AxesSubplot:>"
      ]
     },
     "execution_count": 66,
     "metadata": {},
     "output_type": "execute_result"
    },
    {
     "data": {
      "image/png": "[encoded data removed]",
      "text/plain": [
       "<Figure size 432x288 with 2 Axes>"
      ]
     },
     "metadata": {},
     "output_type": "display_data"
    }
   ],
   "source": [
    "cm = confusion_matrix(y_train, y_predict_train)\n",
    "sns.heatmap(cm, annot=True, fmt=\"d\")"
   ]
  },
  {
   "cell_type": "code",
   "execution_count": 67,
   "metadata": {},
   "outputs": [
    {
     "data": {
      "text/plain": [
       "<AxesSubplot:>"
      ]
     },
     "execution_count": 67,
     "metadata": {},
     "output_type": "execute_result"
    },
    {
     "data": {
      "image/png": "[encoded data removed]",
      "text/plain": [
       "<Figure size 432x288 with 2 Axes>"
      ]
     },
     "metadata": {},
     "output_type": "display_data"
    }
   ],
   "source": [
    "cm = confusion_matrix(y_test, y_pred)\n",
    "sns.heatmap(cm, annot=True, fmt=\"d\")"
   ]
  },
  {
   "cell_type": "markdown",
   "metadata": {},
   "source": [
    "## Classification Report"
   ]
  },
  {
   "cell_type": "code",
   "execution_count": 68,
   "metadata": {},
   "outputs": [
    {
     "name": "stdout",
     "output_type": "stream",
     "text": [
      "              precision    recall  f1-score   support\n",
      "\n",
      " ctl_vehicle       0.00      0.00      0.00        32\n",
      "      trt_cp       0.94      1.00      0.97       496\n",
      "\n",
      "    accuracy                           0.94       528\n",
      "   macro avg       0.47      0.50      0.48       528\n",
      "weighted avg       0.88      0.94      0.91       528\n",
      "\n"
     ]
    },
    {
     "name": "stderr",
     "output_type": "stream",
     "text": [
      "/home/rajan/anaconda3/lib/python3.8/site-packages/sklearn/metrics/_classification.py:1221: UndefinedMetricWarning: Precision and F-score are ill-defined and being set to 0.0 in labels with no predicted samples. Use `zero_division` parameter to control this behavior.\n",
      "  _warn_prf(average, modifier, msg_start, len(result))\n"
     ]
    }
   ],
   "source": [
    "print(classification_report(y_test, y_pred))"
   ]
  },
  {
   "cell_type": "code",
   "execution_count": 69,
   "metadata": {},
   "outputs": [
    {
     "name": "stdout",
     "output_type": "stream",
     "text": [
      "Accuracy:  93.93939393939394 %\n"
     ]
    }
   ],
   "source": [
    "print(\"Accuracy: \", metrics.accuracy_score(y_test,y_pred)*100,\"%\")"
   ]
  },
  {
   "cell_type": "markdown",
   "metadata": {},
   "source": [
    "# 12. K-Means"
   ]
  },
  {
   "cell_type": "code",
   "execution_count": 70,
   "metadata": {},
   "outputs": [
    {
     "data": {
      "text/html": [
       "<div>\n",
       "<style scoped>\n",
       "    .dataframe tbody tr th:only-of-type {\n",
       "        vertical-align: middle;\n",
       "    }\n",
       "\n",
       "    .dataframe tbody tr th {\n",
       "        vertical-align: top;\n",
       "    }\n",
       "\n",
       "    .dataframe thead th {\n",
       "        text-align: right;\n",
       "    }\n",
       "</style>\n",
       "<table border=\"1\" class=\"dataframe\">\n",
       "  <thead>\n",
       "    <tr style=\"text-align: right;\">\n",
       "      <th></th>\n",
       "      <th>cp_type</th>\n",
       "      <th>cp_time</th>\n",
       "      <th>cp_dose</th>\n",
       "      <th>g-0</th>\n",
       "      <th>g-1</th>\n",
       "      <th>g-2</th>\n",
       "      <th>g-3</th>\n",
       "      <th>g-4</th>\n",
       "      <th>c-0</th>\n",
       "    </tr>\n",
       "  </thead>\n",
       "  <tbody>\n",
       "    <tr>\n",
       "      <th>0</th>\n",
       "      <td>trt_cp</td>\n",
       "      <td>24</td>\n",
       "      <td>D1</td>\n",
       "      <td>1.0620</td>\n",
       "      <td>0.5577</td>\n",
       "      <td>-0.2479</td>\n",
       "      <td>-0.6208</td>\n",
       "      <td>-0.1944</td>\n",
       "      <td>-0.0600</td>\n",
       "    </tr>\n",
       "    <tr>\n",
       "      <th>1</th>\n",
       "      <td>trt_cp</td>\n",
       "      <td>72</td>\n",
       "      <td>D1</td>\n",
       "      <td>0.0743</td>\n",
       "      <td>0.4087</td>\n",
       "      <td>0.2991</td>\n",
       "      <td>0.0604</td>\n",
       "      <td>1.0190</td>\n",
       "      <td>0.0927</td>\n",
       "    </tr>\n",
       "    <tr>\n",
       "      <th>2</th>\n",
       "      <td>trt_cp</td>\n",
       "      <td>48</td>\n",
       "      <td>D1</td>\n",
       "      <td>0.6280</td>\n",
       "      <td>0.5817</td>\n",
       "      <td>1.5540</td>\n",
       "      <td>-0.0764</td>\n",
       "      <td>-0.0323</td>\n",
       "      <td>-0.1312</td>\n",
       "    </tr>\n",
       "    <tr>\n",
       "      <th>3</th>\n",
       "      <td>trt_cp</td>\n",
       "      <td>48</td>\n",
       "      <td>D1</td>\n",
       "      <td>-0.5138</td>\n",
       "      <td>-0.2491</td>\n",
       "      <td>-0.2656</td>\n",
       "      <td>0.5288</td>\n",
       "      <td>4.0620</td>\n",
       "      <td>-0.3998</td>\n",
       "    </tr>\n",
       "    <tr>\n",
       "      <th>4</th>\n",
       "      <td>trt_cp</td>\n",
       "      <td>72</td>\n",
       "      <td>D2</td>\n",
       "      <td>-0.3254</td>\n",
       "      <td>-0.4009</td>\n",
       "      <td>0.9700</td>\n",
       "      <td>0.6919</td>\n",
       "      <td>1.4180</td>\n",
       "      <td>-0.3774</td>\n",
       "    </tr>\n",
       "    <tr>\n",
       "      <th>...</th>\n",
       "      <td>...</td>\n",
       "      <td>...</td>\n",
       "      <td>...</td>\n",
       "      <td>...</td>\n",
       "      <td>...</td>\n",
       "      <td>...</td>\n",
       "      <td>...</td>\n",
       "      <td>...</td>\n",
       "      <td>...</td>\n",
       "    </tr>\n",
       "    <tr>\n",
       "      <th>2107</th>\n",
       "      <td>trt_cp</td>\n",
       "      <td>72</td>\n",
       "      <td>D1</td>\n",
       "      <td>-0.7991</td>\n",
       "      <td>0.3067</td>\n",
       "      <td>0.4350</td>\n",
       "      <td>-1.4600</td>\n",
       "      <td>0.4923</td>\n",
       "      <td>0.3486</td>\n",
       "    </tr>\n",
       "    <tr>\n",
       "      <th>2108</th>\n",
       "      <td>trt_cp</td>\n",
       "      <td>24</td>\n",
       "      <td>D2</td>\n",
       "      <td>-0.3627</td>\n",
       "      <td>0.1414</td>\n",
       "      <td>0.6238</td>\n",
       "      <td>-0.1841</td>\n",
       "      <td>0.6299</td>\n",
       "      <td>-0.4333</td>\n",
       "    </tr>\n",
       "    <tr>\n",
       "      <th>2109</th>\n",
       "      <td>trt_cp</td>\n",
       "      <td>48</td>\n",
       "      <td>D2</td>\n",
       "      <td>0.7183</td>\n",
       "      <td>0.4706</td>\n",
       "      <td>-0.9542</td>\n",
       "      <td>1.4390</td>\n",
       "      <td>0.7732</td>\n",
       "      <td>-0.3688</td>\n",
       "    </tr>\n",
       "    <tr>\n",
       "      <th>2110</th>\n",
       "      <td>trt_cp</td>\n",
       "      <td>48</td>\n",
       "      <td>D1</td>\n",
       "      <td>-0.9685</td>\n",
       "      <td>0.5579</td>\n",
       "      <td>-0.6941</td>\n",
       "      <td>-0.0819</td>\n",
       "      <td>-0.7420</td>\n",
       "      <td>0.3486</td>\n",
       "    </tr>\n",
       "    <tr>\n",
       "      <th>2111</th>\n",
       "      <td>trt_cp</td>\n",
       "      <td>48</td>\n",
       "      <td>D2</td>\n",
       "      <td>0.1313</td>\n",
       "      <td>-0.0127</td>\n",
       "      <td>-0.5824</td>\n",
       "      <td>0.4845</td>\n",
       "      <td>-1.2760</td>\n",
       "      <td>-0.4333</td>\n",
       "    </tr>\n",
       "  </tbody>\n",
       "</table>\n",
       "<p>2112 rows × 9 columns</p>\n",
       "</div>"
      ],
      "text/plain": [
       "     cp_type  cp_time cp_dose     g-0     g-1     g-2     g-3     g-4     c-0\n",
       "0     trt_cp       24      D1  1.0620  0.5577 -0.2479 -0.6208 -0.1944 -0.0600\n",
       "1     trt_cp       72      D1  0.0743  0.4087  0.2991  0.0604  1.0190  0.0927\n",
       "2     trt_cp       48      D1  0.6280  0.5817  1.5540 -0.0764 -0.0323 -0.1312\n",
       "3     trt_cp       48      D1 -0.5138 -0.2491 -0.2656  0.5288  4.0620 -0.3998\n",
       "4     trt_cp       72      D2 -0.3254 -0.4009  0.9700  0.6919  1.4180 -0.3774\n",
       "...      ...      ...     ...     ...     ...     ...     ...     ...     ...\n",
       "2107  trt_cp       72      D1 -0.7991  0.3067  0.4350 -1.4600  0.4923  0.3486\n",
       "2108  trt_cp       24      D2 -0.3627  0.1414  0.6238 -0.1841  0.6299 -0.4333\n",
       "2109  trt_cp       48      D2  0.7183  0.4706 -0.9542  1.4390  0.7732 -0.3688\n",
       "2110  trt_cp       48      D1 -0.9685  0.5579 -0.6941 -0.0819 -0.7420  0.3486\n",
       "2111  trt_cp       48      D2  0.1313 -0.0127 -0.5824  0.4845 -1.2760 -0.4333\n",
       "\n",
       "[2112 rows x 9 columns]"
      ]
     },
     "execution_count": 70,
     "metadata": {},
     "output_type": "execute_result"
    }
   ],
   "source": [
    "training_set"
   ]
  },
  {
   "cell_type": "code",
   "execution_count": 71,
   "metadata": {},
   "outputs": [],
   "source": [
    "X = training_set.drop(['cp_dose', 'cp_type'], axis=1)"
   ]
  },
  {
   "cell_type": "code",
   "execution_count": 72,
   "metadata": {},
   "outputs": [],
   "source": [
    "from sklearn.preprocessing import StandardScaler\n",
    "scaler = StandardScaler()\n",
    "X = scaler.fit_transform(X)"
   ]
  },
  {
   "cell_type": "code",
   "execution_count": 73,
   "metadata": {},
   "outputs": [],
   "source": [
    "from sklearn.decomposition import PCA\n",
    "pca = PCA()"
   ]
  },
  {
   "cell_type": "code",
   "execution_count": 74,
   "metadata": {},
   "outputs": [
    {
     "data": {
      "text/plain": [
       "PCA()"
      ]
     },
     "execution_count": 74,
     "metadata": {},
     "output_type": "execute_result"
    }
   ],
   "source": [
    "pca.fit(X)"
   ]
  },
  {
   "cell_type": "code",
   "execution_count": 75,
   "metadata": {},
   "outputs": [
    {
     "data": {
      "text/plain": [
       "array([0.29882029, 0.18671045, 0.14019742, 0.13264408, 0.11501266,\n",
       "       0.0779957 , 0.0486194 ])"
      ]
     },
     "execution_count": 75,
     "metadata": {},
     "output_type": "execute_result"
    }
   ],
   "source": [
    "pca.explained_variance_ratio_"
   ]
  },
  {
   "cell_type": "code",
   "execution_count": 76,
   "metadata": {},
   "outputs": [
    {
     "data": {
      "text/plain": [
       "Text(0, 0.5, 'Cumulative Explained Variance')"
      ]
     },
     "execution_count": 76,
     "metadata": {},
     "output_type": "execute_result"
    },
    {
     "data": {
      "image/png": "[encoded data removed]",
      "text/plain": [
       "<Figure size 720x576 with 1 Axes>"
      ]
     },
     "metadata": {},
     "output_type": "display_data"
    }
   ],
   "source": [
    "plt.figure(figsize = (10,8))\n",
    "plt.plot(range(1,8), pca.explained_variance_ratio_.cumsum(), marker = 'o', linestyle = '--')\n",
    "plt.title(\"Explained Variance by Components\")\n",
    "plt.xlabel(\"Number of Components\")\n",
    "plt.ylabel(\"Cumulative Explained Variance\")"
   ]
  },
  {
   "cell_type": "code",
   "execution_count": 77,
   "metadata": {},
   "outputs": [],
   "source": [
    "pca = PCA(n_components = 4)"
   ]
  },
  {
   "cell_type": "code",
   "execution_count": 78,
   "metadata": {},
   "outputs": [
    {
     "data": {
      "text/plain": [
       "PCA(n_components=4)"
      ]
     },
     "execution_count": 78,
     "metadata": {},
     "output_type": "execute_result"
    }
   ],
   "source": [
    "pca.fit(X)"
   ]
  },
  {
   "cell_type": "code",
   "execution_count": 79,
   "metadata": {},
   "outputs": [
    {
     "data": {
      "text/plain": [
       "array([[ 0.16187366, -0.09451223, -0.38177379,  1.4576179 ],\n",
       "       [ 0.4573645 , -1.0698119 ,  0.30358828, -0.30989836],\n",
       "       [ 0.38097133,  0.38362307,  0.08410536,  0.50122101],\n",
       "       ...,\n",
       "       [ 0.47770957, -0.64473328,  1.70948789,  0.16718595],\n",
       "       [-1.15000754, -0.92945342,  0.25688723,  0.45186248],\n",
       "       [-0.7649844 , -0.13821435,  0.48296482, -0.33681645]])"
      ]
     },
     "execution_count": 79,
     "metadata": {},
     "output_type": "execute_result"
    }
   ],
   "source": [
    "pca.transform(X)"
   ]
  },
  {
   "cell_type": "code",
   "execution_count": 80,
   "metadata": {},
   "outputs": [],
   "source": [
    "X = pca.transform(X)"
   ]
  },
  {
   "cell_type": "markdown",
   "metadata": {},
   "source": [
    "## Using Elbow Method"
   ]
  },
  {
   "cell_type": "code",
   "execution_count": 81,
   "metadata": {},
   "outputs": [
    {
     "data": {
      "image/png": "[encoded data removed]",
      "text/plain": [
       "<Figure size 432x288 with 1 Axes>"
      ]
     },
     "metadata": {},
     "output_type": "display_data"
    }
   ],
   "source": [
    "from sklearn.cluster import KMeans\n",
    "wcss = []\n",
    "for i in range(1, 11):\n",
    "    kmeans = KMeans(n_clusters = i, init = 'k-means++', max_iter=300, n_init=10)\n",
    "    kmeans.fit(X)\n",
    "    wcss.append(kmeans.inertia_)\n",
    "plt.plot(range(1, 11), wcss, marker = 'o')\n",
    "plt.title('The Elbow Method')\n",
    "plt.xlabel('Number of clusters')\n",
    "plt.ylabel('WCSS')\n",
    "plt.show()\n"
   ]
  },
  {
   "cell_type": "code",
   "execution_count": 82,
   "metadata": {},
   "outputs": [],
   "source": [
    "kmeans = KMeans(n_clusters = 5, init = 'k-means++', max_iter=300, n_init=10)\n",
    "y_kmeans = kmeans.fit_predict(X)"
   ]
  },
  {
   "cell_type": "code",
   "execution_count": 83,
   "metadata": {},
   "outputs": [
    {
     "data": {
      "text/plain": [
       "4782.198282989257"
      ]
     },
     "execution_count": 83,
     "metadata": {},
     "output_type": "execute_result"
    }
   ],
   "source": [
    "kmeans.inertia_"
   ]
  },
  {
   "cell_type": "code",
   "execution_count": 84,
   "metadata": {},
   "outputs": [],
   "source": [
    "from sklearn.metrics import silhouette_score\n",
    "silhouette_coefficients = []\n",
    "for k in range(2, 11):\n",
    "    kmeans = KMeans(n_clusters = i, init = 'k-means++', max_iter=300, n_init=10)\n",
    "    kmeans.fit(X)\n",
    "    score = silhouette_score(X, kmeans.labels_)\n",
    "    silhouette_coefficients.append(score)"
   ]
  },
  {
   "cell_type": "markdown",
   "metadata": {},
   "source": [
    "# Performance Measures"
   ]
  },
  {
   "cell_type": "markdown",
   "metadata": {},
   "source": [
    "## Silhouette Coefficient"
   ]
  },
  {
   "cell_type": "markdown",
   "metadata": {},
   "source": [
    "Its value ranges from -1 to 1 and the data is set to be better clustered if the value is closer to 1."
   ]
  },
  {
   "cell_type": "code",
   "execution_count": 85,
   "metadata": {},
   "outputs": [
    {
     "data": {
      "image/png": "[encoded data removed]",
      "text/plain": [
       "<Figure size 432x288 with 1 Axes>"
      ]
     },
     "metadata": {},
     "output_type": "display_data"
    }
   ],
   "source": [
    "plt.plot(range(2, 11), silhouette_coefficients)\n",
    "plt.title('Silhouette Coefficients')\n",
    "plt.xlabel('Number of clusters')\n",
    "plt.ylabel('silhouette_coefficients')\n",
    "plt.show()"
   ]
  },
  {
   "cell_type": "code",
   "execution_count": 86,
   "metadata": {},
   "outputs": [],
   "source": [
    "kmeans = KMeans(n_clusters = 5, init = 'k-means++', max_iter=300, n_init=10)\n",
    "y_kmeans = kmeans.fit_predict(X)"
   ]
  },
  {
   "cell_type": "code",
   "execution_count": 87,
   "metadata": {},
   "outputs": [
    {
     "data": {
      "text/plain": [
       "4782.218357017613"
      ]
     },
     "execution_count": 87,
     "metadata": {},
     "output_type": "execute_result"
    }
   ],
   "source": [
    "kmeans.inertia_"
   ]
  },
  {
   "cell_type": "code",
   "execution_count": 88,
   "metadata": {},
   "outputs": [],
   "source": [
    "kmeans_silhouette = silhouette_score(X, kmeans.labels_)"
   ]
  },
  {
   "cell_type": "code",
   "execution_count": 89,
   "metadata": {},
   "outputs": [
    {
     "data": {
      "text/plain": [
       "0.22872458930669434"
      ]
     },
     "execution_count": 89,
     "metadata": {},
     "output_type": "execute_result"
    }
   ],
   "source": [
    "kmeans_silhouette"
   ]
  },
  {
   "cell_type": "code",
   "execution_count": 90,
   "metadata": {},
   "outputs": [],
   "source": [
    "kmeans = KMeans(n_clusters = 2, init = 'k-means++', max_iter=300, n_init=10)\n",
    "y_kmeans = kmeans.fit_predict(X)"
   ]
  },
  {
   "cell_type": "code",
   "execution_count": 91,
   "metadata": {},
   "outputs": [
    {
     "data": {
      "text/plain": [
       "8132.7881401835975"
      ]
     },
     "execution_count": 91,
     "metadata": {},
     "output_type": "execute_result"
    }
   ],
   "source": [
    "kmeans.inertia_"
   ]
  },
  {
   "cell_type": "code",
   "execution_count": 92,
   "metadata": {},
   "outputs": [],
   "source": [
    "kmeans_silhouette = silhouette_score(X, kmeans.labels_)"
   ]
  },
  {
   "cell_type": "code",
   "execution_count": 93,
   "metadata": {},
   "outputs": [
    {
     "data": {
      "text/plain": [
       "0.6912529549821051"
      ]
     },
     "execution_count": 93,
     "metadata": {},
     "output_type": "execute_result"
    }
   ],
   "source": [
    "kmeans_silhouette"
   ]
  },
  {
   "cell_type": "markdown",
   "metadata": {},
   "source": [
    "As observed with __k=3__ the silhouette score increases hence we can claim that k=3 gives __optimal__ clusters. "
   ]
  },
  {
   "cell_type": "markdown",
   "metadata": {},
   "source": [
    "## Davies Bouldin Index"
   ]
  },
  {
   "cell_type": "code",
   "execution_count": 94,
   "metadata": {},
   "outputs": [
    {
     "name": "stdout",
     "output_type": "stream",
     "text": [
      "0.6606773292352145\n"
     ]
    }
   ],
   "source": [
    "from sklearn.metrics import davies_bouldin_score\n",
    "labels = kmeans.labels_\n",
    "print(davies_bouldin_score(X,labels))"
   ]
  },
  {
   "cell_type": "markdown",
   "metadata": {},
   "source": [
    "The __lower__ the value of this index, the __better__ clustering quality. It is safe to say looking at the score that the algorithm has worked __efficiently__."
   ]
  },
  {
   "cell_type": "markdown",
   "metadata": {},
   "source": [
    "## Plotting Clusters"
   ]
  },
  {
   "cell_type": "code",
   "execution_count": 95,
   "metadata": {},
   "outputs": [
    {
     "data": {
      "image/png": "[encoded data removed]",
      "text/plain": [
       "<Figure size 432x288 with 1 Axes>"
      ]
     },
     "metadata": {},
     "output_type": "display_data"
    }
   ],
   "source": [
    "plt.scatter(X[y_kmeans == 0, 0], X[y_kmeans == 0, 1], s = 100, c = 'red', label = 'Cluster 1') \n",
    "plt.scatter(X[y_kmeans == 1, 0], X[y_kmeans == 1, 1], s = 100, c = 'blue', label = 'Cluster 2') \n",
    "plt.scatter(X[y_kmeans == 2, 0], X[y_kmeans == 2, 1], s = 100, c = 'cyan', label = 'Cluster 3') \n",
    "\n",
    "plt.scatter(kmeans.cluster_centers_[:, 0], kmeans.cluster_centers_[:, 1], s = 300, c = 'black', marker= 'x', label = 'Centroids')\n",
    "plt.title('Clusters of Patients')\n",
    "plt.xlabel('Age')\n",
    "plt.ylabel('Number of Positive Axillary Nodes')\n",
    "plt.legend()\n",
    "plt.show()"
   ]
  },
  {
   "cell_type": "markdown",
   "metadata": {},
   "source": [
    "# 13. Association Rule Mining"
   ]
  },
  {
   "cell_type": "code",
   "execution_count": 96,
   "metadata": {},
   "outputs": [],
   "source": [
    "t2 = training_set.drop(['g-0', 'g-1', 'g-2', 'g-3', 'g-4'], axis=1)"
   ]
  },
  {
   "cell_type": "code",
   "execution_count": 97,
   "metadata": {},
   "outputs": [
    {
     "data": {
      "text/html": [
       "<div>\n",
       "<style scoped>\n",
       "    .dataframe tbody tr th:only-of-type {\n",
       "        vertical-align: middle;\n",
       "    }\n",
       "\n",
       "    .dataframe tbody tr th {\n",
       "        vertical-align: top;\n",
       "    }\n",
       "\n",
       "    .dataframe thead th {\n",
       "        text-align: right;\n",
       "    }\n",
       "</style>\n",
       "<table border=\"1\" class=\"dataframe\">\n",
       "  <thead>\n",
       "    <tr style=\"text-align: right;\">\n",
       "      <th></th>\n",
       "      <th>cp_type</th>\n",
       "      <th>cp_time</th>\n",
       "      <th>cp_dose</th>\n",
       "      <th>c-0</th>\n",
       "    </tr>\n",
       "  </thead>\n",
       "  <tbody>\n",
       "    <tr>\n",
       "      <th>0</th>\n",
       "      <td>trt_cp</td>\n",
       "      <td>24</td>\n",
       "      <td>D1</td>\n",
       "      <td>-0.0600</td>\n",
       "    </tr>\n",
       "    <tr>\n",
       "      <th>1</th>\n",
       "      <td>trt_cp</td>\n",
       "      <td>72</td>\n",
       "      <td>D1</td>\n",
       "      <td>0.0927</td>\n",
       "    </tr>\n",
       "    <tr>\n",
       "      <th>2</th>\n",
       "      <td>trt_cp</td>\n",
       "      <td>48</td>\n",
       "      <td>D1</td>\n",
       "      <td>-0.1312</td>\n",
       "    </tr>\n",
       "    <tr>\n",
       "      <th>3</th>\n",
       "      <td>trt_cp</td>\n",
       "      <td>48</td>\n",
       "      <td>D1</td>\n",
       "      <td>-0.3998</td>\n",
       "    </tr>\n",
       "    <tr>\n",
       "      <th>4</th>\n",
       "      <td>trt_cp</td>\n",
       "      <td>72</td>\n",
       "      <td>D2</td>\n",
       "      <td>-0.3774</td>\n",
       "    </tr>\n",
       "    <tr>\n",
       "      <th>...</th>\n",
       "      <td>...</td>\n",
       "      <td>...</td>\n",
       "      <td>...</td>\n",
       "      <td>...</td>\n",
       "    </tr>\n",
       "    <tr>\n",
       "      <th>2107</th>\n",
       "      <td>trt_cp</td>\n",
       "      <td>72</td>\n",
       "      <td>D1</td>\n",
       "      <td>0.3486</td>\n",
       "    </tr>\n",
       "    <tr>\n",
       "      <th>2108</th>\n",
       "      <td>trt_cp</td>\n",
       "      <td>24</td>\n",
       "      <td>D2</td>\n",
       "      <td>-0.4333</td>\n",
       "    </tr>\n",
       "    <tr>\n",
       "      <th>2109</th>\n",
       "      <td>trt_cp</td>\n",
       "      <td>48</td>\n",
       "      <td>D2</td>\n",
       "      <td>-0.3688</td>\n",
       "    </tr>\n",
       "    <tr>\n",
       "      <th>2110</th>\n",
       "      <td>trt_cp</td>\n",
       "      <td>48</td>\n",
       "      <td>D1</td>\n",
       "      <td>0.3486</td>\n",
       "    </tr>\n",
       "    <tr>\n",
       "      <th>2111</th>\n",
       "      <td>trt_cp</td>\n",
       "      <td>48</td>\n",
       "      <td>D2</td>\n",
       "      <td>-0.4333</td>\n",
       "    </tr>\n",
       "  </tbody>\n",
       "</table>\n",
       "<p>2112 rows × 4 columns</p>\n",
       "</div>"
      ],
      "text/plain": [
       "     cp_type  cp_time cp_dose     c-0\n",
       "0     trt_cp       24      D1 -0.0600\n",
       "1     trt_cp       72      D1  0.0927\n",
       "2     trt_cp       48      D1 -0.1312\n",
       "3     trt_cp       48      D1 -0.3998\n",
       "4     trt_cp       72      D2 -0.3774\n",
       "...      ...      ...     ...     ...\n",
       "2107  trt_cp       72      D1  0.3486\n",
       "2108  trt_cp       24      D2 -0.4333\n",
       "2109  trt_cp       48      D2 -0.3688\n",
       "2110  trt_cp       48      D1  0.3486\n",
       "2111  trt_cp       48      D2 -0.4333\n",
       "\n",
       "[2112 rows x 4 columns]"
      ]
     },
     "execution_count": 97,
     "metadata": {},
     "output_type": "execute_result"
    }
   ],
   "source": [
    "t2"
   ]
  },
  {
   "cell_type": "markdown",
   "metadata": {},
   "source": [
    "## Converting training_set into transactions"
   ]
  },
  {
   "cell_type": "code",
   "execution_count": 98,
   "metadata": {},
   "outputs": [],
   "source": [
    "transactions = []\n",
    "for i in range(0, len(training_set)):\n",
    "    transactions.append([str(training_set.values[i,j]) for j in range(0,3)])"
   ]
  },
  {
   "cell_type": "code",
   "execution_count": 99,
   "metadata": {},
   "outputs": [
    {
     "data": {
      "text/plain": [
       "[['trt_cp', '24', 'D1'],\n",
       " ['trt_cp', '72', 'D1'],\n",
       " ['trt_cp', '48', 'D1'],\n",
       " ['trt_cp', '48', 'D1'],\n",
       " ['trt_cp', '72', 'D2'],\n",
       " ['trt_cp', '24', 'D1'],\n",
       " ['trt_cp', '24', 'D2'],\n",
       " ['trt_cp', '48', 'D1'],\n",
       " ['trt_cp', '48', 'D1'],\n",
       " ['trt_cp', '48', 'D2'],\n",
       " ['trt_cp', '72', 'D2'],\n",
       " ['trt_cp', '48', 'D2'],\n",
       " ['trt_cp', '48', 'D1'],\n",
       " ['trt_cp', '48', 'D2'],\n",
       " ['trt_cp', '72', 'D1'],\n",
       " ['trt_cp', '48', 'D1'],\n",
       " ['trt_cp', '48', 'D1'],\n",
       " ['trt_cp', '24', 'D2'],\n",
       " ['trt_cp', '72', 'D2'],\n",
       " ['trt_cp', '48', 'D1'],\n",
       " ['trt_cp', '48', 'D2'],\n",
       " ['trt_cp', '48', 'D1'],\n",
       " ['trt_cp', '72', 'D1'],\n",
       " ['trt_cp', '72', 'D1'],\n",
       " ['trt_cp', '72', 'D2'],\n",
       " ['ctl_vehicle', '48', 'D1'],\n",
       " ['trt_cp', '72', 'D1'],\n",
       " ['trt_cp', '48', 'D2'],\n",
       " ['trt_cp', '48', 'D1'],\n",
       " ['trt_cp', '72', 'D1'],\n",
       " ['trt_cp', '72', 'D1'],\n",
       " ['trt_cp', '48', 'D2'],\n",
       " ['trt_cp', '24', 'D2'],\n",
       " ['trt_cp', '48', 'D2'],\n",
       " ['trt_cp', '48', 'D2'],\n",
       " ['trt_cp', '48', 'D2'],\n",
       " ['trt_cp', '24', 'D1'],\n",
       " ['trt_cp', '48', 'D1'],\n",
       " ['ctl_vehicle', '24', 'D1'],\n",
       " ['trt_cp', '24', 'D1'],\n",
       " ['ctl_vehicle', '24', 'D2'],\n",
       " ['trt_cp', '48', 'D2'],\n",
       " ['trt_cp', '48', 'D2'],\n",
       " ['trt_cp', '48', 'D2'],\n",
       " ['trt_cp', '48', 'D2'],\n",
       " ['trt_cp', '72', 'D1'],\n",
       " ['trt_cp', '72', 'D2'],\n",
       " ['ctl_vehicle', '48', 'D2'],\n",
       " ['trt_cp', '24', 'D1'],\n",
       " ['trt_cp', '48', 'D2'],\n",
       " ['trt_cp', '72', 'D1'],\n",
       " ['trt_cp', '24', 'D2'],\n",
       " ['trt_cp', '48', 'D1'],\n",
       " ['trt_cp', '48', 'D2'],\n",
       " ['trt_cp', '24', 'D2'],\n",
       " ['trt_cp', '48', 'D1'],\n",
       " ['trt_cp', '24', 'D1'],\n",
       " ['trt_cp', '24', 'D1'],\n",
       " ['trt_cp', '48', 'D2'],\n",
       " ['trt_cp', '72', 'D1'],\n",
       " ['trt_cp', '48', 'D1'],\n",
       " ['trt_cp', '24', 'D1'],\n",
       " ['trt_cp', '24', 'D1'],\n",
       " ['ctl_vehicle', '24', 'D2'],\n",
       " ['trt_cp', '24', 'D1'],\n",
       " ['trt_cp', '48', 'D2'],\n",
       " ['trt_cp', '48', 'D1'],\n",
       " ['trt_cp', '48', 'D1'],\n",
       " ['trt_cp', '24', 'D2'],\n",
       " ['trt_cp', '24', 'D1'],\n",
       " ['trt_cp', '48', 'D2'],\n",
       " ['trt_cp', '24', 'D2'],\n",
       " ['trt_cp', '24', 'D2'],\n",
       " ['trt_cp', '72', 'D2'],\n",
       " ['trt_cp', '24', 'D2'],\n",
       " ['trt_cp', '24', 'D2'],\n",
       " ['trt_cp', '48', 'D2'],\n",
       " ['trt_cp', '24', 'D2'],\n",
       " ['trt_cp', '48', 'D2'],\n",
       " ['trt_cp', '24', 'D1'],\n",
       " ['trt_cp', '72', 'D1'],\n",
       " ['ctl_vehicle', '72', 'D1'],\n",
       " ['trt_cp', '72', 'D2'],\n",
       " ['trt_cp', '48', 'D1'],\n",
       " ['trt_cp', '72', 'D2'],\n",
       " ['trt_cp', '48', 'D2'],\n",
       " ['trt_cp', '48', 'D2'],\n",
       " ['trt_cp', '48', 'D2'],\n",
       " ['trt_cp', '72', 'D2'],\n",
       " ['trt_cp', '48', 'D1'],\n",
       " ['trt_cp', '48', 'D2'],\n",
       " ['trt_cp', '48', 'D1'],\n",
       " ['trt_cp', '24', 'D1'],\n",
       " ['trt_cp', '24', 'D2'],\n",
       " ['trt_cp', '72', 'D1'],\n",
       " ['trt_cp', '48', 'D2'],\n",
       " ['ctl_vehicle', '24', 'D2'],\n",
       " ['trt_cp', '24', 'D1'],\n",
       " ['trt_cp', '48', 'D2'],\n",
       " ['trt_cp', '24', 'D2'],\n",
       " ['trt_cp', '24', 'D1'],\n",
       " ['trt_cp', '24', 'D2'],\n",
       " ['trt_cp', '24', 'D1'],\n",
       " ['trt_cp', '72', 'D2'],\n",
       " ['trt_cp', '24', 'D2'],\n",
       " ['trt_cp', '48', 'D2'],\n",
       " ['trt_cp', '72', 'D2'],\n",
       " ['trt_cp', '72', 'D1'],\n",
       " ['trt_cp', '72', 'D1'],\n",
       " ['trt_cp', '72', 'D2'],\n",
       " ['trt_cp', '24', 'D1'],\n",
       " ['trt_cp', '72', 'D1'],\n",
       " ['trt_cp', '24', 'D1'],\n",
       " ['trt_cp', '72', 'D1'],\n",
       " ['trt_cp', '24', 'D1'],\n",
       " ['trt_cp', '48', 'D2'],\n",
       " ['trt_cp', '48', 'D1'],\n",
       " ['ctl_vehicle', '48', 'D2'],\n",
       " ['trt_cp', '48', 'D1'],\n",
       " ['trt_cp', '72', 'D2'],\n",
       " ['trt_cp', '48', 'D2'],\n",
       " ['trt_cp', '72', 'D2'],\n",
       " ['trt_cp', '48', 'D2'],\n",
       " ['trt_cp', '24', 'D1'],\n",
       " ['trt_cp', '48', 'D2'],\n",
       " ['trt_cp', '72', 'D1'],\n",
       " ['trt_cp', '48', 'D1'],\n",
       " ['trt_cp', '72', 'D1'],\n",
       " ['trt_cp', '48', 'D2'],\n",
       " ['trt_cp', '72', 'D2'],\n",
       " ['trt_cp', '72', 'D2'],\n",
       " ['trt_cp', '24', 'D1'],\n",
       " ['trt_cp', '48', 'D2'],\n",
       " ['ctl_vehicle', '24', 'D2'],\n",
       " ['trt_cp', '48', 'D2'],\n",
       " ['trt_cp', '72', 'D1'],\n",
       " ['trt_cp', '72', 'D2'],\n",
       " ['trt_cp', '72', 'D1'],\n",
       " ['trt_cp', '24', 'D1'],\n",
       " ['trt_cp', '24', 'D2'],\n",
       " ['trt_cp', '24', 'D2'],\n",
       " ['trt_cp', '72', 'D1'],\n",
       " ['trt_cp', '24', 'D2'],\n",
       " ['trt_cp', '48', 'D1'],\n",
       " ['trt_cp', '24', 'D1'],\n",
       " ['trt_cp', '72', 'D2'],\n",
       " ['trt_cp', '72', 'D1'],\n",
       " ['trt_cp', '48', 'D2'],\n",
       " ['ctl_vehicle', '48', 'D1'],\n",
       " ['trt_cp', '72', 'D1'],\n",
       " ['trt_cp', '24', 'D1'],\n",
       " ['trt_cp', '24', 'D2'],\n",
       " ['trt_cp', '48', 'D2'],\n",
       " ['trt_cp', '48', 'D1'],\n",
       " ['trt_cp', '72', 'D2'],\n",
       " ['trt_cp', '24', 'D1'],\n",
       " ['trt_cp', '72', 'D2'],\n",
       " ['trt_cp', '24', 'D1'],\n",
       " ['trt_cp', '48', 'D2'],\n",
       " ['trt_cp', '48', 'D1'],\n",
       " ['trt_cp', '72', 'D2'],\n",
       " ['ctl_vehicle', '24', 'D2'],\n",
       " ['trt_cp', '48', 'D2'],\n",
       " ['ctl_vehicle', '48', 'D2'],\n",
       " ['trt_cp', '48', 'D2'],\n",
       " ['trt_cp', '48', 'D1'],\n",
       " ['trt_cp', '48', 'D1'],\n",
       " ['trt_cp', '48', 'D1'],\n",
       " ['trt_cp', '72', 'D1'],\n",
       " ['ctl_vehicle', '48', 'D2'],\n",
       " ['ctl_vehicle', '72', 'D2'],\n",
       " ['trt_cp', '72', 'D2'],\n",
       " ['trt_cp', '48', 'D1'],\n",
       " ['trt_cp', '24', 'D2'],\n",
       " ['trt_cp', '48', 'D1'],\n",
       " ['ctl_vehicle', '72', 'D1'],\n",
       " ['trt_cp', '72', 'D1'],\n",
       " ['trt_cp', '48', 'D2'],\n",
       " ['trt_cp', '24', 'D1'],\n",
       " ['trt_cp', '72', 'D1'],\n",
       " ['trt_cp', '24', 'D2'],\n",
       " ['trt_cp', '48', 'D2'],\n",
       " ['trt_cp', '72', 'D2'],\n",
       " ['ctl_vehicle', '72', 'D2'],\n",
       " ['trt_cp', '72', 'D1'],\n",
       " ['trt_cp', '24', 'D1'],\n",
       " ['ctl_vehicle', '48', 'D1'],\n",
       " ['trt_cp', '24', 'D1'],\n",
       " ['trt_cp', '72', 'D2'],\n",
       " ['trt_cp', '48', 'D2'],\n",
       " ['trt_cp', '24', 'D1'],\n",
       " ['trt_cp', '24', 'D1'],\n",
       " ['trt_cp', '72', 'D2'],\n",
       " ['trt_cp', '48', 'D1'],\n",
       " ['trt_cp', '48', 'D2'],\n",
       " ['trt_cp', '72', 'D1'],\n",
       " ['trt_cp', '48', 'D2'],\n",
       " ['trt_cp', '72', 'D2'],\n",
       " ['ctl_vehicle', '24', 'D1'],\n",
       " ['trt_cp', '72', 'D2'],\n",
       " ['trt_cp', '48', 'D1'],\n",
       " ['trt_cp', '24', 'D1'],\n",
       " ['trt_cp', '48', 'D1'],\n",
       " ['trt_cp', '72', 'D2'],\n",
       " ['trt_cp', '24', 'D2'],\n",
       " ['trt_cp', '24', 'D1'],\n",
       " ['trt_cp', '48', 'D1'],\n",
       " ['trt_cp', '48', 'D1'],\n",
       " ['trt_cp', '72', 'D1'],\n",
       " ['trt_cp', '72', 'D1'],\n",
       " ['trt_cp', '48', 'D1'],\n",
       " ['trt_cp', '24', 'D1'],\n",
       " ['trt_cp', '72', 'D2'],\n",
       " ['trt_cp', '72', 'D1'],\n",
       " ['trt_cp', '72', 'D1'],\n",
       " ['trt_cp', '48', 'D1'],\n",
       " ['trt_cp', '24', 'D1'],\n",
       " ['trt_cp', '72', 'D2'],\n",
       " ['trt_cp', '24', 'D2'],\n",
       " ['trt_cp', '24', 'D1'],\n",
       " ['trt_cp', '24', 'D2'],\n",
       " ['trt_cp', '24', 'D1'],\n",
       " ['trt_cp', '48', 'D1'],\n",
       " ['trt_cp', '72', 'D1'],\n",
       " ['trt_cp', '48', 'D1'],\n",
       " ['trt_cp', '72', 'D1'],\n",
       " ['trt_cp', '24', 'D2'],\n",
       " ['trt_cp', '48', 'D2'],\n",
       " ['trt_cp', '24', 'D2'],\n",
       " ['trt_cp', '24', 'D2'],\n",
       " ['trt_cp', '24', 'D2'],\n",
       " ['trt_cp', '24', 'D1'],\n",
       " ['trt_cp', '24', 'D1'],\n",
       " ['trt_cp', '24', 'D1'],\n",
       " ['trt_cp', '48', 'D1'],\n",
       " ['trt_cp', '72', 'D2'],\n",
       " ['trt_cp', '72', 'D1'],\n",
       " ['trt_cp', '24', 'D1'],\n",
       " ['trt_cp', '24', 'D2'],\n",
       " ['trt_cp', '24', 'D2'],\n",
       " ['trt_cp', '24', 'D2'],\n",
       " ['trt_cp', '48', 'D1'],\n",
       " ['trt_cp', '24', 'D2'],\n",
       " ['trt_cp', '24', 'D2'],\n",
       " ['trt_cp', '72', 'D2'],\n",
       " ['trt_cp', '48', 'D2'],\n",
       " ['trt_cp', '48', 'D1'],\n",
       " ['trt_cp', '24', 'D1'],\n",
       " ['trt_cp', '72', 'D2'],\n",
       " ['trt_cp', '48', 'D1'],\n",
       " ['trt_cp', '48', 'D1'],\n",
       " ['trt_cp', '48', 'D1'],\n",
       " ['trt_cp', '48', 'D1'],\n",
       " ['trt_cp', '48', 'D1'],\n",
       " ['trt_cp', '72', 'D1'],\n",
       " ['trt_cp', '48', 'D2'],\n",
       " ['trt_cp', '24', 'D1'],\n",
       " ['trt_cp', '24', 'D1'],\n",
       " ['trt_cp', '48', 'D2'],\n",
       " ['trt_cp', '72', 'D2'],\n",
       " ['trt_cp', '24', 'D1'],\n",
       " ['trt_cp', '24', 'D1'],\n",
       " ['trt_cp', '48', 'D1'],\n",
       " ['trt_cp', '48', 'D1'],\n",
       " ['trt_cp', '72', 'D1'],\n",
       " ['trt_cp', '48', 'D2'],\n",
       " ['trt_cp', '24', 'D1'],\n",
       " ['trt_cp', '24', 'D2'],\n",
       " ['trt_cp', '24', 'D1'],\n",
       " ['trt_cp', '48', 'D2'],\n",
       " ['trt_cp', '72', 'D2'],\n",
       " ['ctl_vehicle', '48', 'D1'],\n",
       " ['trt_cp', '24', 'D1'],\n",
       " ['trt_cp', '72', 'D1'],\n",
       " ['trt_cp', '48', 'D2'],\n",
       " ['trt_cp', '48', 'D1'],\n",
       " ['trt_cp', '48', 'D1'],\n",
       " ['trt_cp', '24', 'D2'],\n",
       " ['trt_cp', '48', 'D1'],\n",
       " ['trt_cp', '72', 'D1'],\n",
       " ['trt_cp', '72', 'D1'],\n",
       " ['trt_cp', '24', 'D2'],\n",
       " ['trt_cp', '72', 'D1'],\n",
       " ['trt_cp', '24', 'D1'],\n",
       " ['trt_cp', '48', 'D1'],\n",
       " ['trt_cp', '24', 'D1'],\n",
       " ['trt_cp', '24', 'D2'],\n",
       " ['trt_cp', '72', 'D1'],\n",
       " ['trt_cp', '48', 'D2'],\n",
       " ['trt_cp', '72', 'D1'],\n",
       " ['trt_cp', '24', 'D2'],\n",
       " ['trt_cp', '72', 'D1'],\n",
       " ['trt_cp', '48', 'D1'],\n",
       " ['trt_cp', '24', 'D2'],\n",
       " ['trt_cp', '72', 'D1'],\n",
       " ['trt_cp', '24', 'D2'],\n",
       " ['trt_cp', '24', 'D2'],\n",
       " ['trt_cp', '48', 'D1'],\n",
       " ['trt_cp', '48', 'D2'],\n",
       " ['trt_cp', '24', 'D1'],\n",
       " ['trt_cp', '48', 'D1'],\n",
       " ['trt_cp', '48', 'D2'],\n",
       " ['trt_cp', '48', 'D1'],\n",
       " ['trt_cp', '48', 'D1'],\n",
       " ['trt_cp', '24', 'D2'],\n",
       " ['trt_cp', '48', 'D1'],\n",
       " ['trt_cp', '24', 'D2'],\n",
       " ['trt_cp', '48', 'D1'],\n",
       " ['trt_cp', '72', 'D2'],\n",
       " ['trt_cp', '48', 'D1'],\n",
       " ['trt_cp', '72', 'D1'],\n",
       " ['trt_cp', '48', 'D1'],\n",
       " ['trt_cp', '72', 'D2'],\n",
       " ['trt_cp', '24', 'D2'],\n",
       " ['trt_cp', '72', 'D1'],\n",
       " ['trt_cp', '24', 'D1'],\n",
       " ['trt_cp', '48', 'D2'],\n",
       " ['trt_cp', '24', 'D1'],\n",
       " ['trt_cp', '72', 'D1'],\n",
       " ['trt_cp', '24', 'D1'],\n",
       " ['trt_cp', '48', 'D2'],\n",
       " ['trt_cp', '24', 'D2'],\n",
       " ['trt_cp', '72', 'D1'],\n",
       " ['trt_cp', '48', 'D1'],\n",
       " ['trt_cp', '24', 'D2'],\n",
       " ['trt_cp', '24', 'D1'],\n",
       " ['trt_cp', '72', 'D2'],\n",
       " ['trt_cp', '72', 'D1'],\n",
       " ['trt_cp', '48', 'D1'],\n",
       " ['trt_cp', '48', 'D2'],\n",
       " ['trt_cp', '24', 'D2'],\n",
       " ['trt_cp', '72', 'D2'],\n",
       " ['trt_cp', '48', 'D1'],\n",
       " ['trt_cp', '24', 'D2'],\n",
       " ['trt_cp', '72', 'D2'],\n",
       " ['trt_cp', '48', 'D2'],\n",
       " ['trt_cp', '48', 'D1'],\n",
       " ['trt_cp', '48', 'D2'],\n",
       " ['trt_cp', '72', 'D1'],\n",
       " ['trt_cp', '24', 'D1'],\n",
       " ['trt_cp', '48', 'D2'],\n",
       " ['trt_cp', '72', 'D1'],\n",
       " ['trt_cp', '72', 'D1'],\n",
       " ['trt_cp', '72', 'D1'],\n",
       " ['trt_cp', '48', 'D1'],\n",
       " ['trt_cp', '72', 'D2'],\n",
       " ['trt_cp', '48', 'D1'],\n",
       " ['ctl_vehicle', '48', 'D1'],\n",
       " ['trt_cp', '72', 'D1'],\n",
       " ['trt_cp', '24', 'D1'],\n",
       " ['ctl_vehicle', '24', 'D1'],\n",
       " ['trt_cp', '72', 'D1'],\n",
       " ['ctl_vehicle', '24', 'D2'],\n",
       " ['trt_cp', '72', 'D2'],\n",
       " ['ctl_vehicle', '48', 'D1'],\n",
       " ['trt_cp', '24', 'D1'],\n",
       " ['trt_cp', '24', 'D1'],\n",
       " ['trt_cp', '48', 'D1'],\n",
       " ['trt_cp', '48', 'D1'],\n",
       " ['trt_cp', '24', 'D1'],\n",
       " ['trt_cp', '24', 'D2'],\n",
       " ['trt_cp', '72', 'D2'],\n",
       " ['trt_cp', '48', 'D2'],\n",
       " ['trt_cp', '48', 'D1'],\n",
       " ['ctl_vehicle', '24', 'D2'],\n",
       " ['trt_cp', '72', 'D1'],\n",
       " ['trt_cp', '48', 'D1'],\n",
       " ['trt_cp', '24', 'D1'],\n",
       " ['trt_cp', '72', 'D2'],\n",
       " ['trt_cp', '48', 'D1'],\n",
       " ['trt_cp', '72', 'D1'],\n",
       " ['trt_cp', '48', 'D2'],\n",
       " ['trt_cp', '24', 'D1'],\n",
       " ['trt_cp', '24', 'D1'],\n",
       " ['trt_cp', '48', 'D1'],\n",
       " ['trt_cp', '48', 'D1'],\n",
       " ['trt_cp', '48', 'D1'],\n",
       " ['trt_cp', '72', 'D1'],\n",
       " ['trt_cp', '24', 'D1'],\n",
       " ['ctl_vehicle', '24', 'D2'],\n",
       " ['trt_cp', '24', 'D1'],\n",
       " ['trt_cp', '48', 'D1'],\n",
       " ['trt_cp', '48', 'D2'],\n",
       " ['trt_cp', '48', 'D1'],\n",
       " ['ctl_vehicle', '24', 'D1'],\n",
       " ['trt_cp', '72', 'D2'],\n",
       " ['ctl_vehicle', '72', 'D2'],\n",
       " ['trt_cp', '24', 'D1'],\n",
       " ['trt_cp', '72', 'D1'],\n",
       " ['trt_cp', '72', 'D1'],\n",
       " ['trt_cp', '24', 'D1'],\n",
       " ['trt_cp', '24', 'D2'],\n",
       " ['trt_cp', '48', 'D1'],\n",
       " ['trt_cp', '72', 'D1'],\n",
       " ['trt_cp', '48', 'D2'],\n",
       " ['ctl_vehicle', '24', 'D1'],\n",
       " ['trt_cp', '72', 'D1'],\n",
       " ['trt_cp', '72', 'D2'],\n",
       " ['trt_cp', '72', 'D2'],\n",
       " ['trt_cp', '24', 'D1'],\n",
       " ['trt_cp', '48', 'D1'],\n",
       " ['trt_cp', '24', 'D1'],\n",
       " ['trt_cp', '24', 'D1'],\n",
       " ['trt_cp', '24', 'D2'],\n",
       " ['trt_cp', '24', 'D1'],\n",
       " ['trt_cp', '48', 'D1'],\n",
       " ['trt_cp', '48', 'D2'],\n",
       " ['trt_cp', '24', 'D1'],\n",
       " ['trt_cp', '72', 'D2'],\n",
       " ['trt_cp', '72', 'D2'],\n",
       " ['trt_cp', '72', 'D1'],\n",
       " ['trt_cp', '24', 'D2'],\n",
       " ['trt_cp', '72', 'D1'],\n",
       " ['ctl_vehicle', '72', 'D1'],\n",
       " ['trt_cp', '48', 'D2'],\n",
       " ['trt_cp', '48', 'D2'],\n",
       " ['trt_cp', '48', 'D2'],\n",
       " ['trt_cp', '24', 'D2'],\n",
       " ['trt_cp', '24', 'D2'],\n",
       " ['trt_cp', '24', 'D1'],\n",
       " ['trt_cp', '72', 'D2'],\n",
       " ['trt_cp', '72', 'D2'],\n",
       " ['trt_cp', '24', 'D2'],\n",
       " ['trt_cp', '72', 'D1'],\n",
       " ['trt_cp', '48', 'D2'],\n",
       " ['trt_cp', '48', 'D2'],\n",
       " ['trt_cp', '72', 'D2'],\n",
       " ['trt_cp', '24', 'D1'],\n",
       " ['trt_cp', '24', 'D2'],\n",
       " ['trt_cp', '24', 'D1'],\n",
       " ['trt_cp', '24', 'D2'],\n",
       " ['trt_cp', '48', 'D2'],\n",
       " ['trt_cp', '24', 'D2'],\n",
       " ['trt_cp', '48', 'D2'],\n",
       " ['ctl_vehicle', '48', 'D2'],\n",
       " ['trt_cp', '24', 'D2'],\n",
       " ['trt_cp', '72', 'D1'],\n",
       " ['ctl_vehicle', '24', 'D1'],\n",
       " ['trt_cp', '72', 'D1'],\n",
       " ['trt_cp', '48', 'D2'],\n",
       " ['trt_cp', '48', 'D1'],\n",
       " ['trt_cp', '72', 'D2'],\n",
       " ['trt_cp', '48', 'D1'],\n",
       " ['trt_cp', '24', 'D2'],\n",
       " ['trt_cp', '72', 'D1'],\n",
       " ['trt_cp', '72', 'D2'],\n",
       " ['trt_cp', '24', 'D2'],\n",
       " ['trt_cp', '48', 'D2'],\n",
       " ['trt_cp', '48', 'D2'],\n",
       " ['trt_cp', '24', 'D2'],\n",
       " ['trt_cp', '48', 'D1'],\n",
       " ['trt_cp', '72', 'D2'],\n",
       " ['trt_cp', '48', 'D2'],\n",
       " ['trt_cp', '24', 'D2'],\n",
       " ['trt_cp', '48', 'D2'],\n",
       " ['trt_cp', '48', 'D1'],\n",
       " ['trt_cp', '72', 'D2'],\n",
       " ['trt_cp', '72', 'D2'],\n",
       " ['trt_cp', '72', 'D2'],\n",
       " ['trt_cp', '72', 'D2'],\n",
       " ['trt_cp', '48', 'D1'],\n",
       " ['trt_cp', '24', 'D1'],\n",
       " ['trt_cp', '72', 'D1'],\n",
       " ['ctl_vehicle', '24', 'D2'],\n",
       " ['trt_cp', '72', 'D2'],\n",
       " ['ctl_vehicle', '24', 'D2'],\n",
       " ['trt_cp', '24', 'D2'],\n",
       " ['trt_cp', '24', 'D1'],\n",
       " ['ctl_vehicle', '48', 'D1'],\n",
       " ['trt_cp', '72', 'D2'],\n",
       " ['trt_cp', '48', 'D1'],\n",
       " ['trt_cp', '72', 'D2'],\n",
       " ['trt_cp', '72', 'D2'],\n",
       " ['trt_cp', '24', 'D2'],\n",
       " ['trt_cp', '48', 'D2'],\n",
       " ['trt_cp', '24', 'D2'],\n",
       " ['trt_cp', '72', 'D1'],\n",
       " ['ctl_vehicle', '48', 'D1'],\n",
       " ['trt_cp', '48', 'D1'],\n",
       " ['trt_cp', '72', 'D2'],\n",
       " ['trt_cp', '48', 'D2'],\n",
       " ['trt_cp', '24', 'D2'],\n",
       " ['trt_cp', '24', 'D1'],\n",
       " ['trt_cp', '48', 'D2'],\n",
       " ['trt_cp', '24', 'D2'],\n",
       " ['trt_cp', '72', 'D1'],\n",
       " ['trt_cp', '24', 'D2'],\n",
       " ['ctl_vehicle', '48', 'D1'],\n",
       " ['ctl_vehicle', '48', 'D1'],\n",
       " ['trt_cp', '72', 'D1'],\n",
       " ['trt_cp', '24', 'D1'],\n",
       " ['trt_cp', '48', 'D1'],\n",
       " ['trt_cp', '72', 'D1'],\n",
       " ['trt_cp', '48', 'D1'],\n",
       " ['trt_cp', '48', 'D1'],\n",
       " ['trt_cp', '72', 'D2'],\n",
       " ['ctl_vehicle', '48', 'D2'],\n",
       " ['trt_cp', '72', 'D2'],\n",
       " ['trt_cp', '72', 'D2'],\n",
       " ['trt_cp', '24', 'D2'],\n",
       " ['trt_cp', '24', 'D2'],\n",
       " ['trt_cp', '48', 'D1'],\n",
       " ['trt_cp', '72', 'D1'],\n",
       " ['trt_cp', '48', 'D1'],\n",
       " ['trt_cp', '24', 'D1'],\n",
       " ['trt_cp', '72', 'D1'],\n",
       " ['trt_cp', '48', 'D2'],\n",
       " ['ctl_vehicle', '48', 'D1'],\n",
       " ['trt_cp', '48', 'D1'],\n",
       " ['trt_cp', '72', 'D1'],\n",
       " ['trt_cp', '24', 'D1'],\n",
       " ['trt_cp', '48', 'D2'],\n",
       " ['trt_cp', '24', 'D1'],\n",
       " ['trt_cp', '24', 'D2'],\n",
       " ['trt_cp', '48', 'D1'],\n",
       " ['trt_cp', '48', 'D1'],\n",
       " ['ctl_vehicle', '24', 'D1'],\n",
       " ['ctl_vehicle', '24', 'D1'],\n",
       " ['trt_cp', '48', 'D2'],\n",
       " ['trt_cp', '48', 'D2'],\n",
       " ['trt_cp', '24', 'D1'],\n",
       " ['trt_cp', '48', 'D1'],\n",
       " ['trt_cp', '24', 'D1'],\n",
       " ['trt_cp', '72', 'D2'],\n",
       " ['trt_cp', '24', 'D2'],\n",
       " ['trt_cp', '48', 'D2'],\n",
       " ['trt_cp', '24', 'D1'],\n",
       " ['trt_cp', '48', 'D2'],\n",
       " ['trt_cp', '72', 'D1'],\n",
       " ['trt_cp', '72', 'D1'],\n",
       " ['trt_cp', '48', 'D2'],\n",
       " ['ctl_vehicle', '48', 'D1'],\n",
       " ['trt_cp', '48', 'D1'],\n",
       " ['trt_cp', '48', 'D2'],\n",
       " ['trt_cp', '48', 'D2'],\n",
       " ['trt_cp', '48', 'D2'],\n",
       " ['trt_cp', '24', 'D2'],\n",
       " ['trt_cp', '48', 'D2'],\n",
       " ['trt_cp', '48', 'D2'],\n",
       " ['trt_cp', '48', 'D2'],\n",
       " ['trt_cp', '72', 'D1'],\n",
       " ['trt_cp', '48', 'D2'],\n",
       " ['trt_cp', '24', 'D2'],\n",
       " ['trt_cp', '72', 'D1'],\n",
       " ['ctl_vehicle', '24', 'D2'],\n",
       " ['trt_cp', '48', 'D2'],\n",
       " ['trt_cp', '24', 'D2'],\n",
       " ['ctl_vehicle', '48', 'D1'],\n",
       " ['trt_cp', '72', 'D2'],\n",
       " ['trt_cp', '72', 'D1'],\n",
       " ['trt_cp', '48', 'D2'],\n",
       " ['trt_cp', '72', 'D2'],\n",
       " ['ctl_vehicle', '72', 'D1'],\n",
       " ['trt_cp', '72', 'D1'],\n",
       " ['trt_cp', '72', 'D1'],\n",
       " ['trt_cp', '72', 'D1'],\n",
       " ['trt_cp', '48', 'D1'],\n",
       " ['trt_cp', '24', 'D1'],\n",
       " ['trt_cp', '48', 'D2'],\n",
       " ['trt_cp', '24', 'D1'],\n",
       " ['trt_cp', '48', 'D1'],\n",
       " ['trt_cp', '24', 'D2'],\n",
       " ['trt_cp', '48', 'D1'],\n",
       " ['trt_cp', '24', 'D1'],\n",
       " ['trt_cp', '48', 'D2'],\n",
       " ['trt_cp', '72', 'D2'],\n",
       " ['trt_cp', '48', 'D2'],\n",
       " ['ctl_vehicle', '24', 'D2'],\n",
       " ['trt_cp', '72', 'D1'],\n",
       " ['trt_cp', '72', 'D2'],\n",
       " ['trt_cp', '72', 'D1'],\n",
       " ['trt_cp', '48', 'D2'],\n",
       " ['trt_cp', '24', 'D1'],\n",
       " ['trt_cp', '72', 'D2'],\n",
       " ['trt_cp', '48', 'D1'],\n",
       " ['trt_cp', '72', 'D2'],\n",
       " ['trt_cp', '48', 'D1'],\n",
       " ['trt_cp', '24', 'D1'],\n",
       " ['trt_cp', '48', 'D1'],\n",
       " ['trt_cp', '48', 'D2'],\n",
       " ['trt_cp', '24', 'D2'],\n",
       " ['trt_cp', '48', 'D2'],\n",
       " ['trt_cp', '24', 'D2'],\n",
       " ['trt_cp', '48', 'D1'],\n",
       " ['trt_cp', '72', 'D2'],\n",
       " ['trt_cp', '24', 'D1'],\n",
       " ['trt_cp', '24', 'D2'],\n",
       " ['ctl_vehicle', '48', 'D1'],\n",
       " ['trt_cp', '24', 'D1'],\n",
       " ['trt_cp', '72', 'D1'],\n",
       " ['trt_cp', '24', 'D2'],\n",
       " ['trt_cp', '72', 'D2'],\n",
       " ['trt_cp', '48', 'D1'],\n",
       " ['trt_cp', '48', 'D2'],\n",
       " ['trt_cp', '72', 'D2'],\n",
       " ['trt_cp', '48', 'D1'],\n",
       " ['trt_cp', '24', 'D2'],\n",
       " ['trt_cp', '72', 'D2'],\n",
       " ['trt_cp', '24', 'D2'],\n",
       " ['trt_cp', '24', 'D2'],\n",
       " ['ctl_vehicle', '24', 'D1'],\n",
       " ['trt_cp', '24', 'D1'],\n",
       " ['trt_cp', '24', 'D2'],\n",
       " ['trt_cp', '24', 'D2'],\n",
       " ['trt_cp', '48', 'D2'],\n",
       " ['trt_cp', '24', 'D1'],\n",
       " ['trt_cp', '72', 'D1'],\n",
       " ['trt_cp', '72', 'D2'],\n",
       " ['trt_cp', '24', 'D2'],\n",
       " ['trt_cp', '48', 'D1'],\n",
       " ['trt_cp', '48', 'D1'],\n",
       " ['trt_cp', '72', 'D2'],\n",
       " ['trt_cp', '24', 'D2'],\n",
       " ['ctl_vehicle', '24', 'D1'],\n",
       " ['trt_cp', '48', 'D2'],\n",
       " ['trt_cp', '72', 'D2'],\n",
       " ['trt_cp', '72', 'D1'],\n",
       " ['trt_cp', '48', 'D2'],\n",
       " ['trt_cp', '24', 'D1'],\n",
       " ['trt_cp', '48', 'D2'],\n",
       " ['trt_cp', '72', 'D1'],\n",
       " ['trt_cp', '24', 'D1'],\n",
       " ['trt_cp', '24', 'D2'],\n",
       " ['trt_cp', '24', 'D2'],\n",
       " ['trt_cp', '72', 'D2'],\n",
       " ['trt_cp', '72', 'D2'],\n",
       " ['trt_cp', '24', 'D1'],\n",
       " ['trt_cp', '24', 'D1'],\n",
       " ['trt_cp', '48', 'D1'],\n",
       " ['trt_cp', '24', 'D2'],\n",
       " ['trt_cp', '24', 'D1'],\n",
       " ['trt_cp', '72', 'D2'],\n",
       " ['trt_cp', '24', 'D1'],\n",
       " ['trt_cp', '72', 'D2'],\n",
       " ['trt_cp', '24', 'D2'],\n",
       " ['trt_cp', '72', 'D2'],\n",
       " ['trt_cp', '72', 'D1'],\n",
       " ['ctl_vehicle', '72', 'D1'],\n",
       " ['trt_cp', '48', 'D2'],\n",
       " ['trt_cp', '72', 'D1'],\n",
       " ['trt_cp', '72', 'D2'],\n",
       " ['trt_cp', '72', 'D2'],\n",
       " ['trt_cp', '48', 'D1'],\n",
       " ['trt_cp', '48', 'D1'],\n",
       " ['trt_cp', '72', 'D1'],\n",
       " ['ctl_vehicle', '24', 'D1'],\n",
       " ['trt_cp', '72', 'D2'],\n",
       " ['trt_cp', '72', 'D1'],\n",
       " ['trt_cp', '72', 'D2'],\n",
       " ['ctl_vehicle', '24', 'D2'],\n",
       " ['trt_cp', '72', 'D1'],\n",
       " ['trt_cp', '72', 'D1'],\n",
       " ['ctl_vehicle', '48', 'D1'],\n",
       " ['trt_cp', '48', 'D2'],\n",
       " ['trt_cp', '24', 'D1'],\n",
       " ['trt_cp', '24', 'D1'],\n",
       " ['trt_cp', '24', 'D2'],\n",
       " ['trt_cp', '72', 'D1'],\n",
       " ['trt_cp', '48', 'D1'],\n",
       " ['trt_cp', '72', 'D2'],\n",
       " ['trt_cp', '72', 'D1'],\n",
       " ['trt_cp', '48', 'D2'],\n",
       " ['ctl_vehicle', '24', 'D1'],\n",
       " ['trt_cp', '48', 'D1'],\n",
       " ['trt_cp', '24', 'D1'],\n",
       " ['trt_cp', '48', 'D2'],\n",
       " ['trt_cp', '72', 'D2'],\n",
       " ['trt_cp', '24', 'D1'],\n",
       " ['trt_cp', '48', 'D1'],\n",
       " ['trt_cp', '24', 'D2'],\n",
       " ['trt_cp', '24', 'D2'],\n",
       " ['trt_cp', '48', 'D2'],\n",
       " ['trt_cp', '72', 'D2'],\n",
       " ['trt_cp', '72', 'D2'],\n",
       " ['trt_cp', '48', 'D1'],\n",
       " ['trt_cp', '48', 'D1'],\n",
       " ['trt_cp', '24', 'D2'],\n",
       " ['trt_cp', '24', 'D1'],\n",
       " ['trt_cp', '48', 'D2'],\n",
       " ['ctl_vehicle', '24', 'D1'],\n",
       " ['trt_cp', '48', 'D2'],\n",
       " ['trt_cp', '24', 'D1'],\n",
       " ['ctl_vehicle', '48', 'D2'],\n",
       " ['trt_cp', '48', 'D2'],\n",
       " ['trt_cp', '72', 'D2'],\n",
       " ['trt_cp', '24', 'D1'],\n",
       " ['trt_cp', '24', 'D2'],\n",
       " ['trt_cp', '48', 'D2'],\n",
       " ['trt_cp', '48', 'D2'],\n",
       " ['trt_cp', '72', 'D2'],\n",
       " ['trt_cp', '48', 'D2'],\n",
       " ['trt_cp', '24', 'D2'],\n",
       " ['trt_cp', '24', 'D2'],\n",
       " ['trt_cp', '72', 'D1'],\n",
       " ['trt_cp', '48', 'D2'],\n",
       " ['trt_cp', '72', 'D2'],\n",
       " ['trt_cp', '72', 'D2'],\n",
       " ['trt_cp', '48', 'D1'],\n",
       " ['trt_cp', '24', 'D1'],\n",
       " ['ctl_vehicle', '72', 'D1'],\n",
       " ['trt_cp', '24', 'D1'],\n",
       " ['trt_cp', '24', 'D2'],\n",
       " ['ctl_vehicle', '48', 'D2'],\n",
       " ['trt_cp', '24', 'D2'],\n",
       " ['ctl_vehicle', '24', 'D2'],\n",
       " ['trt_cp', '24', 'D2'],\n",
       " ['trt_cp', '72', 'D1'],\n",
       " ['trt_cp', '48', 'D1'],\n",
       " ['trt_cp', '72', 'D2'],\n",
       " ['trt_cp', '48', 'D1'],\n",
       " ['trt_cp', '24', 'D1'],\n",
       " ['trt_cp', '48', 'D1'],\n",
       " ['trt_cp', '24', 'D1'],\n",
       " ['trt_cp', '24', 'D1'],\n",
       " ['trt_cp', '72', 'D1'],\n",
       " ['trt_cp', '48', 'D1'],\n",
       " ['trt_cp', '24', 'D2'],\n",
       " ['trt_cp', '72', 'D2'],\n",
       " ['trt_cp', '24', 'D1'],\n",
       " ['trt_cp', '24', 'D1'],\n",
       " ['trt_cp', '48', 'D2'],\n",
       " ['trt_cp', '48', 'D2'],\n",
       " ['trt_cp', '24', 'D1'],\n",
       " ['trt_cp', '72', 'D2'],\n",
       " ['trt_cp', '48', 'D1'],\n",
       " ['trt_cp', '72', 'D2'],\n",
       " ['trt_cp', '72', 'D2'],\n",
       " ['trt_cp', '48', 'D2'],\n",
       " ['trt_cp', '48', 'D2'],\n",
       " ['trt_cp', '48', 'D1'],\n",
       " ['trt_cp', '48', 'D2'],\n",
       " ['trt_cp', '48', 'D1'],\n",
       " ['trt_cp', '48', 'D1'],\n",
       " ['trt_cp', '24', 'D1'],\n",
       " ['trt_cp', '48', 'D1'],\n",
       " ['trt_cp', '48', 'D2'],\n",
       " ['trt_cp', '72', 'D1'],\n",
       " ['trt_cp', '48', 'D2'],\n",
       " ['trt_cp', '48', 'D1'],\n",
       " ['trt_cp', '48', 'D2'],\n",
       " ['trt_cp', '24', 'D1'],\n",
       " ['trt_cp', '48', 'D2'],\n",
       " ['trt_cp', '48', 'D2'],\n",
       " ['trt_cp', '24', 'D1'],\n",
       " ['trt_cp', '24', 'D1'],\n",
       " ['trt_cp', '24', 'D2'],\n",
       " ['ctl_vehicle', '72', 'D2'],\n",
       " ['trt_cp', '72', 'D1'],\n",
       " ['ctl_vehicle', '72', 'D2'],\n",
       " ['ctl_vehicle', '48', 'D2'],\n",
       " ['trt_cp', '24', 'D2'],\n",
       " ['trt_cp', '24', 'D2'],\n",
       " ['trt_cp', '48', 'D1'],\n",
       " ['trt_cp', '48', 'D2'],\n",
       " ['trt_cp', '24', 'D1'],\n",
       " ['trt_cp', '72', 'D1'],\n",
       " ['trt_cp', '48', 'D1'],\n",
       " ['trt_cp', '48', 'D2'],\n",
       " ['trt_cp', '24', 'D1'],\n",
       " ['trt_cp', '48', 'D1'],\n",
       " ['trt_cp', '48', 'D1'],\n",
       " ['trt_cp', '24', 'D2'],\n",
       " ['ctl_vehicle', '72', 'D1'],\n",
       " ['trt_cp', '72', 'D2'],\n",
       " ['trt_cp', '24', 'D1'],\n",
       " ['trt_cp', '24', 'D2'],\n",
       " ['trt_cp', '72', 'D1'],\n",
       " ['trt_cp', '48', 'D1'],\n",
       " ['trt_cp', '72', 'D2'],\n",
       " ['trt_cp', '48', 'D2'],\n",
       " ['trt_cp', '72', 'D2'],\n",
       " ['trt_cp', '48', 'D1'],\n",
       " ['trt_cp', '24', 'D2'],\n",
       " ['trt_cp', '24', 'D1'],\n",
       " ['trt_cp', '24', 'D2'],\n",
       " ['ctl_vehicle', '48', 'D2'],\n",
       " ['trt_cp', '48', 'D1'],\n",
       " ['trt_cp', '48', 'D2'],\n",
       " ['trt_cp', '24', 'D1'],\n",
       " ['trt_cp', '48', 'D1'],\n",
       " ['trt_cp', '48', 'D1'],\n",
       " ['trt_cp', '72', 'D1'],\n",
       " ['trt_cp', '24', 'D1'],\n",
       " ['trt_cp', '72', 'D1'],\n",
       " ['trt_cp', '48', 'D1'],\n",
       " ['trt_cp', '72', 'D1'],\n",
       " ['trt_cp', '72', 'D2'],\n",
       " ['trt_cp', '48', 'D1'],\n",
       " ['ctl_vehicle', '72', 'D2'],\n",
       " ['trt_cp', '24', 'D1'],\n",
       " ['trt_cp', '72', 'D2'],\n",
       " ['trt_cp', '24', 'D2'],\n",
       " ['trt_cp', '24', 'D2'],\n",
       " ['trt_cp', '48', 'D2'],\n",
       " ['trt_cp', '48', 'D2'],\n",
       " ['trt_cp', '24', 'D1'],\n",
       " ['trt_cp', '24', 'D1'],\n",
       " ['trt_cp', '48', 'D2'],\n",
       " ['trt_cp', '24', 'D1'],\n",
       " ['trt_cp', '72', 'D1'],\n",
       " ['ctl_vehicle', '72', 'D1'],\n",
       " ['trt_cp', '24', 'D2'],\n",
       " ['trt_cp', '24', 'D1'],\n",
       " ['trt_cp', '72', 'D1'],\n",
       " ['ctl_vehicle', '48', 'D1'],\n",
       " ['trt_cp', '24', 'D1'],\n",
       " ['trt_cp', '48', 'D1'],\n",
       " ['trt_cp', '72', 'D1'],\n",
       " ['trt_cp', '72', 'D2'],\n",
       " ['trt_cp', '72', 'D2'],\n",
       " ['trt_cp', '72', 'D1'],\n",
       " ['trt_cp', '24', 'D1'],\n",
       " ['ctl_vehicle', '72', 'D2'],\n",
       " ['trt_cp', '24', 'D2'],\n",
       " ['trt_cp', '48', 'D2'],\n",
       " ['trt_cp', '48', 'D2'],\n",
       " ['trt_cp', '72', 'D1'],\n",
       " ['trt_cp', '72', 'D2'],\n",
       " ['trt_cp', '48', 'D2'],\n",
       " ['ctl_vehicle', '72', 'D1'],\n",
       " ['trt_cp', '24', 'D2'],\n",
       " ['trt_cp', '48', 'D1'],\n",
       " ['trt_cp', '72', 'D2'],\n",
       " ['trt_cp', '24', 'D1'],\n",
       " ['trt_cp', '24', 'D1'],\n",
       " ['trt_cp', '48', 'D1'],\n",
       " ['trt_cp', '24', 'D1'],\n",
       " ['trt_cp', '48', 'D1'],\n",
       " ['ctl_vehicle', '24', 'D2'],\n",
       " ['ctl_vehicle', '48', 'D1'],\n",
       " ['trt_cp', '48', 'D2'],\n",
       " ['trt_cp', '72', 'D2'],\n",
       " ['trt_cp', '48', 'D1'],\n",
       " ['trt_cp', '48', 'D1'],\n",
       " ['trt_cp', '24', 'D2'],\n",
       " ['trt_cp', '72', 'D2'],\n",
       " ['trt_cp', '24', 'D2'],\n",
       " ['trt_cp', '24', 'D1'],\n",
       " ['trt_cp', '48', 'D2'],\n",
       " ['trt_cp', '48', 'D1'],\n",
       " ['ctl_vehicle', '48', 'D2'],\n",
       " ['trt_cp', '48', 'D1'],\n",
       " ['trt_cp', '48', 'D1'],\n",
       " ['trt_cp', '72', 'D2'],\n",
       " ['trt_cp', '24', 'D2'],\n",
       " ['trt_cp', '24', 'D1'],\n",
       " ['trt_cp', '72', 'D1'],\n",
       " ['trt_cp', '48', 'D1'],\n",
       " ['trt_cp', '24', 'D2'],\n",
       " ['trt_cp', '24', 'D2'],\n",
       " ['trt_cp', '72', 'D2'],\n",
       " ['trt_cp', '24', 'D2'],\n",
       " ['trt_cp', '72', 'D1'],\n",
       " ['trt_cp', '48', 'D2'],\n",
       " ['ctl_vehicle', '72', 'D2'],\n",
       " ['trt_cp', '24', 'D1'],\n",
       " ['trt_cp', '24', 'D2'],\n",
       " ['trt_cp', '48', 'D1'],\n",
       " ['trt_cp', '48', 'D2'],\n",
       " ['ctl_vehicle', '24', 'D2'],\n",
       " ['trt_cp', '24', 'D2'],\n",
       " ['trt_cp', '48', 'D2'],\n",
       " ['trt_cp', '24', 'D1'],\n",
       " ['trt_cp', '48', 'D2'],\n",
       " ['trt_cp', '72', 'D1'],\n",
       " ['trt_cp', '48', 'D1'],\n",
       " ['trt_cp', '72', 'D1'],\n",
       " ['trt_cp', '72', 'D1'],\n",
       " ['trt_cp', '48', 'D1'],\n",
       " ['trt_cp', '48', 'D2'],\n",
       " ['trt_cp', '24', 'D2'],\n",
       " ['trt_cp', '72', 'D2'],\n",
       " ['trt_cp', '24', 'D1'],\n",
       " ['trt_cp', '72', 'D2'],\n",
       " ['ctl_vehicle', '24', 'D2'],\n",
       " ['trt_cp', '72', 'D2'],\n",
       " ['trt_cp', '48', 'D2'],\n",
       " ['trt_cp', '24', 'D2'],\n",
       " ['trt_cp', '72', 'D2'],\n",
       " ['trt_cp', '24', 'D2'],\n",
       " ['trt_cp', '72', 'D1'],\n",
       " ['trt_cp', '72', 'D2'],\n",
       " ['trt_cp', '24', 'D2'],\n",
       " ['trt_cp', '72', 'D2'],\n",
       " ['trt_cp', '72', 'D1'],\n",
       " ['trt_cp', '24', 'D1'],\n",
       " ['trt_cp', '24', 'D2'],\n",
       " ['trt_cp', '24', 'D1'],\n",
       " ['trt_cp', '72', 'D1'],\n",
       " ['trt_cp', '48', 'D2'],\n",
       " ['ctl_vehicle', '48', 'D1'],\n",
       " ['trt_cp', '48', 'D1'],\n",
       " ['trt_cp', '72', 'D2'],\n",
       " ['trt_cp', '72', 'D2'],\n",
       " ['trt_cp', '72', 'D1'],\n",
       " ['trt_cp', '24', 'D1'],\n",
       " ['trt_cp', '48', 'D2'],\n",
       " ['trt_cp', '72', 'D2'],\n",
       " ['ctl_vehicle', '48', 'D2'],\n",
       " ['trt_cp', '24', 'D2'],\n",
       " ['ctl_vehicle', '24', 'D1'],\n",
       " ['trt_cp', '48', 'D2'],\n",
       " ['trt_cp', '24', 'D2'],\n",
       " ['trt_cp', '24', 'D1'],\n",
       " ['trt_cp', '48', 'D2'],\n",
       " ['trt_cp', '24', 'D2'],\n",
       " ['ctl_vehicle', '24', 'D2'],\n",
       " ['trt_cp', '72', 'D1'],\n",
       " ['trt_cp', '24', 'D1'],\n",
       " ['trt_cp', '48', 'D2'],\n",
       " ['trt_cp', '48', 'D2'],\n",
       " ['trt_cp', '24', 'D1'],\n",
       " ['trt_cp', '72', 'D1'],\n",
       " ['trt_cp', '72', 'D1'],\n",
       " ['trt_cp', '24', 'D2'],\n",
       " ['trt_cp', '48', 'D2'],\n",
       " ['trt_cp', '72', 'D2'],\n",
       " ['trt_cp', '48', 'D1'],\n",
       " ['ctl_vehicle', '24', 'D1'],\n",
       " ['trt_cp', '48', 'D2'],\n",
       " ['trt_cp', '72', 'D2'],\n",
       " ['trt_cp', '72', 'D1'],\n",
       " ['trt_cp', '72', 'D2'],\n",
       " ['trt_cp', '72', 'D2'],\n",
       " ['trt_cp', '48', 'D1'],\n",
       " ['trt_cp', '72', 'D1'],\n",
       " ['trt_cp', '48', 'D2'],\n",
       " ['trt_cp', '72', 'D2'],\n",
       " ['trt_cp', '48', 'D2'],\n",
       " ['trt_cp', '48', 'D2'],\n",
       " ['trt_cp', '24', 'D1'],\n",
       " ['trt_cp', '24', 'D2'],\n",
       " ['trt_cp', '24', 'D2'],\n",
       " ['trt_cp', '48', 'D1'],\n",
       " ['trt_cp', '24', 'D1'],\n",
       " ['trt_cp', '72', 'D2'],\n",
       " ['trt_cp', '48', 'D1'],\n",
       " ['trt_cp', '24', 'D2'],\n",
       " ['trt_cp', '48', 'D2'],\n",
       " ['trt_cp', '72', 'D1'],\n",
       " ['trt_cp', '24', 'D2'],\n",
       " ['trt_cp', '72', 'D1'],\n",
       " ['trt_cp', '72', 'D2'],\n",
       " ['trt_cp', '72', 'D2'],\n",
       " ['trt_cp', '48', 'D1'],\n",
       " ['trt_cp', '48', 'D2'],\n",
       " ['trt_cp', '24', 'D2'],\n",
       " ['trt_cp', '48', 'D1'],\n",
       " ['trt_cp', '24', 'D1'],\n",
       " ['trt_cp', '24', 'D1'],\n",
       " ['trt_cp', '24', 'D2'],\n",
       " ['trt_cp', '72', 'D2'],\n",
       " ['trt_cp', '48', 'D1'],\n",
       " ['trt_cp', '24', 'D1'],\n",
       " ['trt_cp', '48', 'D2'],\n",
       " ['trt_cp', '48', 'D1'],\n",
       " ['trt_cp', '24', 'D1'],\n",
       " ['trt_cp', '48', 'D2'],\n",
       " ['trt_cp', '72', 'D1'],\n",
       " ['trt_cp', '24', 'D2'],\n",
       " ['trt_cp', '24', 'D1'],\n",
       " ['trt_cp', '24', 'D1'],\n",
       " ['trt_cp', '48', 'D2'],\n",
       " ['trt_cp', '48', 'D1'],\n",
       " ['trt_cp', '48', 'D1'],\n",
       " ['trt_cp', '72', 'D2'],\n",
       " ['trt_cp', '24', 'D2'],\n",
       " ['trt_cp', '24', 'D2'],\n",
       " ['trt_cp', '72', 'D2'],\n",
       " ['trt_cp', '48', 'D2'],\n",
       " ['trt_cp', '72', 'D1'],\n",
       " ['trt_cp', '48', 'D2'],\n",
       " ['trt_cp', '48', 'D1'],\n",
       " ['trt_cp', '24', 'D1'],\n",
       " ['trt_cp', '24', 'D1'],\n",
       " ['trt_cp', '24', 'D1'],\n",
       " ['trt_cp', '72', 'D2'],\n",
       " ['trt_cp', '24', 'D1'],\n",
       " ['trt_cp', '72', 'D2'],\n",
       " ['trt_cp', '72', 'D2'],\n",
       " ['trt_cp', '24', 'D2'],\n",
       " ['trt_cp', '72', 'D2'],\n",
       " ['trt_cp', '24', 'D2'],\n",
       " ['trt_cp', '48', 'D1'],\n",
       " ['ctl_vehicle', '48', 'D2'],\n",
       " ['trt_cp', '48', 'D2'],\n",
       " ['trt_cp', '48', 'D2'],\n",
       " ['trt_cp', '72', 'D2'],\n",
       " ['trt_cp', '72', 'D1'],\n",
       " ['ctl_vehicle', '72', 'D1'],\n",
       " ['trt_cp', '48', 'D2'],\n",
       " ['trt_cp', '72', 'D1'],\n",
       " ['trt_cp', '48', 'D1'],\n",
       " ['trt_cp', '48', 'D2'],\n",
       " ['trt_cp', '48', 'D1'],\n",
       " ['trt_cp', '48', 'D1'],\n",
       " ['trt_cp', '48', 'D1'],\n",
       " ['trt_cp', '72', 'D1'],\n",
       " ['trt_cp', '48', 'D1'],\n",
       " ['trt_cp', '24', 'D2'],\n",
       " ...]"
      ]
     },
     "execution_count": 99,
     "metadata": {},
     "output_type": "execute_result"
    }
   ],
   "source": [
    "transactions"
   ]
  },
  {
   "cell_type": "markdown",
   "metadata": {},
   "source": [
    "### Encoding "
   ]
  },
  {
   "cell_type": "code",
   "execution_count": 100,
   "metadata": {},
   "outputs": [
    {
     "data": {
      "text/html": [
       "<div>\n",
       "<style scoped>\n",
       "    .dataframe tbody tr th:only-of-type {\n",
       "        vertical-align: middle;\n",
       "    }\n",
       "\n",
       "    .dataframe tbody tr th {\n",
       "        vertical-align: top;\n",
       "    }\n",
       "\n",
       "    .dataframe thead th {\n",
       "        text-align: right;\n",
       "    }\n",
       "</style>\n",
       "<table border=\"1\" class=\"dataframe\">\n",
       "  <thead>\n",
       "    <tr style=\"text-align: right;\">\n",
       "      <th></th>\n",
       "      <th>24</th>\n",
       "      <th>48</th>\n",
       "      <th>72</th>\n",
       "      <th>D1</th>\n",
       "      <th>D2</th>\n",
       "      <th>ctl_vehicle</th>\n",
       "      <th>trt_cp</th>\n",
       "    </tr>\n",
       "  </thead>\n",
       "  <tbody>\n",
       "    <tr>\n",
       "      <th>0</th>\n",
       "      <td>True</td>\n",
       "      <td>False</td>\n",
       "      <td>False</td>\n",
       "      <td>True</td>\n",
       "      <td>False</td>\n",
       "      <td>False</td>\n",
       "      <td>True</td>\n",
       "    </tr>\n",
       "    <tr>\n",
       "      <th>1</th>\n",
       "      <td>False</td>\n",
       "      <td>False</td>\n",
       "      <td>True</td>\n",
       "      <td>True</td>\n",
       "      <td>False</td>\n",
       "      <td>False</td>\n",
       "      <td>True</td>\n",
       "    </tr>\n",
       "    <tr>\n",
       "      <th>2</th>\n",
       "      <td>False</td>\n",
       "      <td>True</td>\n",
       "      <td>False</td>\n",
       "      <td>True</td>\n",
       "      <td>False</td>\n",
       "      <td>False</td>\n",
       "      <td>True</td>\n",
       "    </tr>\n",
       "    <tr>\n",
       "      <th>3</th>\n",
       "      <td>False</td>\n",
       "      <td>True</td>\n",
       "      <td>False</td>\n",
       "      <td>True</td>\n",
       "      <td>False</td>\n",
       "      <td>False</td>\n",
       "      <td>True</td>\n",
       "    </tr>\n",
       "    <tr>\n",
       "      <th>4</th>\n",
       "      <td>False</td>\n",
       "      <td>False</td>\n",
       "      <td>True</td>\n",
       "      <td>False</td>\n",
       "      <td>True</td>\n",
       "      <td>False</td>\n",
       "      <td>True</td>\n",
       "    </tr>\n",
       "    <tr>\n",
       "      <th>...</th>\n",
       "      <td>...</td>\n",
       "      <td>...</td>\n",
       "      <td>...</td>\n",
       "      <td>...</td>\n",
       "      <td>...</td>\n",
       "      <td>...</td>\n",
       "      <td>...</td>\n",
       "    </tr>\n",
       "    <tr>\n",
       "      <th>2107</th>\n",
       "      <td>False</td>\n",
       "      <td>False</td>\n",
       "      <td>True</td>\n",
       "      <td>True</td>\n",
       "      <td>False</td>\n",
       "      <td>False</td>\n",
       "      <td>True</td>\n",
       "    </tr>\n",
       "    <tr>\n",
       "      <th>2108</th>\n",
       "      <td>True</td>\n",
       "      <td>False</td>\n",
       "      <td>False</td>\n",
       "      <td>False</td>\n",
       "      <td>True</td>\n",
       "      <td>False</td>\n",
       "      <td>True</td>\n",
       "    </tr>\n",
       "    <tr>\n",
       "      <th>2109</th>\n",
       "      <td>False</td>\n",
       "      <td>True</td>\n",
       "      <td>False</td>\n",
       "      <td>False</td>\n",
       "      <td>True</td>\n",
       "      <td>False</td>\n",
       "      <td>True</td>\n",
       "    </tr>\n",
       "    <tr>\n",
       "      <th>2110</th>\n",
       "      <td>False</td>\n",
       "      <td>True</td>\n",
       "      <td>False</td>\n",
       "      <td>True</td>\n",
       "      <td>False</td>\n",
       "      <td>False</td>\n",
       "      <td>True</td>\n",
       "    </tr>\n",
       "    <tr>\n",
       "      <th>2111</th>\n",
       "      <td>False</td>\n",
       "      <td>True</td>\n",
       "      <td>False</td>\n",
       "      <td>False</td>\n",
       "      <td>True</td>\n",
       "      <td>False</td>\n",
       "      <td>True</td>\n",
       "    </tr>\n",
       "  </tbody>\n",
       "</table>\n",
       "<p>2112 rows × 7 columns</p>\n",
       "</div>"
      ],
      "text/plain": [
       "         24     48     72     D1     D2  ctl_vehicle  trt_cp\n",
       "0      True  False  False   True  False        False    True\n",
       "1     False  False   True   True  False        False    True\n",
       "2     False   True  False   True  False        False    True\n",
       "3     False   True  False   True  False        False    True\n",
       "4     False  False   True  False   True        False    True\n",
       "...     ...    ...    ...    ...    ...          ...     ...\n",
       "2107  False  False   True   True  False        False    True\n",
       "2108   True  False  False  False   True        False    True\n",
       "2109  False   True  False  False   True        False    True\n",
       "2110  False   True  False   True  False        False    True\n",
       "2111  False   True  False  False   True        False    True\n",
       "\n",
       "[2112 rows x 7 columns]"
      ]
     },
     "execution_count": 100,
     "metadata": {},
     "output_type": "execute_result"
    }
   ],
   "source": [
    "from mlxtend.preprocessing import TransactionEncoder\n",
    "\n",
    "te = TransactionEncoder()\n",
    "te_ary = te.fit(transactions).transform(transactions)\n",
    "df = pd.DataFrame(te_ary, columns=te.columns_)\n",
    "df"
   ]
  },
  {
   "cell_type": "markdown",
   "metadata": {},
   "source": [
    "# Apriori"
   ]
  },
  {
   "cell_type": "markdown",
   "metadata": {},
   "source": [
    "__Apriori__ algorithm is given by R. Agrawal and R. Srikant in 1994 for finding frequent itemsets in a dataset for boolean association rule. Name of the algorithm is Apriori because it uses __prior knowledge__ of frequent itemset properties.\n",
    "\n",
    "__Apriori Property –_\n",
    "*All non-empty subset of frequent itemset must be frequent.*"
   ]
  },
  {
   "cell_type": "code",
   "execution_count": 101,
   "metadata": {},
   "outputs": [
    {
     "data": {
      "text/html": [
       "<div>\n",
       "<style scoped>\n",
       "    .dataframe tbody tr th:only-of-type {\n",
       "        vertical-align: middle;\n",
       "    }\n",
       "\n",
       "    .dataframe tbody tr th {\n",
       "        vertical-align: top;\n",
       "    }\n",
       "\n",
       "    .dataframe thead th {\n",
       "        text-align: right;\n",
       "    }\n",
       "</style>\n",
       "<table border=\"1\" class=\"dataframe\">\n",
       "  <thead>\n",
       "    <tr style=\"text-align: right;\">\n",
       "      <th></th>\n",
       "      <th>support</th>\n",
       "      <th>itemsets</th>\n",
       "    </tr>\n",
       "  </thead>\n",
       "  <tbody>\n",
       "    <tr>\n",
       "      <th>0</th>\n",
       "      <td>0.509470</td>\n",
       "      <td>(3)</td>\n",
       "    </tr>\n",
       "    <tr>\n",
       "      <th>1</th>\n",
       "      <td>0.490530</td>\n",
       "      <td>(4)</td>\n",
       "    </tr>\n",
       "    <tr>\n",
       "      <th>2</th>\n",
       "      <td>0.924242</td>\n",
       "      <td>(6)</td>\n",
       "    </tr>\n",
       "    <tr>\n",
       "      <th>3</th>\n",
       "      <td>0.470170</td>\n",
       "      <td>(3, 6)</td>\n",
       "    </tr>\n",
       "    <tr>\n",
       "      <th>4</th>\n",
       "      <td>0.454072</td>\n",
       "      <td>(4, 6)</td>\n",
       "    </tr>\n",
       "  </tbody>\n",
       "</table>\n",
       "</div>"
      ],
      "text/plain": [
       "    support itemsets\n",
       "0  0.509470      (3)\n",
       "1  0.490530      (4)\n",
       "2  0.924242      (6)\n",
       "3  0.470170   (3, 6)\n",
       "4  0.454072   (4, 6)"
      ]
     },
     "execution_count": 101,
     "metadata": {},
     "output_type": "execute_result"
    }
   ],
   "source": [
    "from mlxtend.frequent_patterns import apriori\n",
    "\n",
    "apriori(df, min_support=0.4)"
   ]
  },
  {
   "cell_type": "code",
   "execution_count": 102,
   "metadata": {},
   "outputs": [
    {
     "data": {
      "text/html": [
       "<div>\n",
       "<style scoped>\n",
       "    .dataframe tbody tr th:only-of-type {\n",
       "        vertical-align: middle;\n",
       "    }\n",
       "\n",
       "    .dataframe tbody tr th {\n",
       "        vertical-align: top;\n",
       "    }\n",
       "\n",
       "    .dataframe thead th {\n",
       "        text-align: right;\n",
       "    }\n",
       "</style>\n",
       "<table border=\"1\" class=\"dataframe\">\n",
       "  <thead>\n",
       "    <tr style=\"text-align: right;\">\n",
       "      <th></th>\n",
       "      <th>support</th>\n",
       "      <th>itemsets</th>\n",
       "      <th>length</th>\n",
       "    </tr>\n",
       "  </thead>\n",
       "  <tbody>\n",
       "    <tr>\n",
       "      <th>0</th>\n",
       "      <td>0.509470</td>\n",
       "      <td>(D1)</td>\n",
       "      <td>1</td>\n",
       "    </tr>\n",
       "    <tr>\n",
       "      <th>1</th>\n",
       "      <td>0.490530</td>\n",
       "      <td>(D2)</td>\n",
       "      <td>1</td>\n",
       "    </tr>\n",
       "    <tr>\n",
       "      <th>2</th>\n",
       "      <td>0.924242</td>\n",
       "      <td>(trt_cp)</td>\n",
       "      <td>1</td>\n",
       "    </tr>\n",
       "    <tr>\n",
       "      <th>3</th>\n",
       "      <td>0.470170</td>\n",
       "      <td>(D1, trt_cp)</td>\n",
       "      <td>2</td>\n",
       "    </tr>\n",
       "    <tr>\n",
       "      <th>4</th>\n",
       "      <td>0.454072</td>\n",
       "      <td>(D2, trt_cp)</td>\n",
       "      <td>2</td>\n",
       "    </tr>\n",
       "  </tbody>\n",
       "</table>\n",
       "</div>"
      ],
      "text/plain": [
       "    support      itemsets  length\n",
       "0  0.509470          (D1)       1\n",
       "1  0.490530          (D2)       1\n",
       "2  0.924242      (trt_cp)       1\n",
       "3  0.470170  (D1, trt_cp)       2\n",
       "4  0.454072  (D2, trt_cp)       2"
      ]
     },
     "execution_count": 102,
     "metadata": {},
     "output_type": "execute_result"
    }
   ],
   "source": [
    "frequent_itemsets = apriori(df, min_support=0.4, use_colnames=True)\n",
    "frequent_itemsets['length'] = frequent_itemsets['itemsets'].apply(lambda x: len(x))\n",
    "frequent_itemsets"
   ]
  },
  {
   "cell_type": "code",
   "execution_count": 103,
   "metadata": {
    "scrolled": true
   },
   "outputs": [
    {
     "data": {
      "text/html": [
       "<div>\n",
       "<style scoped>\n",
       "    .dataframe tbody tr th:only-of-type {\n",
       "        vertical-align: middle;\n",
       "    }\n",
       "\n",
       "    .dataframe tbody tr th {\n",
       "        vertical-align: top;\n",
       "    }\n",
       "\n",
       "    .dataframe thead th {\n",
       "        text-align: right;\n",
       "    }\n",
       "</style>\n",
       "<table border=\"1\" class=\"dataframe\">\n",
       "  <thead>\n",
       "    <tr style=\"text-align: right;\">\n",
       "      <th></th>\n",
       "      <th>support</th>\n",
       "      <th>itemsets</th>\n",
       "      <th>length</th>\n",
       "    </tr>\n",
       "  </thead>\n",
       "  <tbody>\n",
       "    <tr>\n",
       "      <th>3</th>\n",
       "      <td>0.470170</td>\n",
       "      <td>(D1, trt_cp)</td>\n",
       "      <td>2</td>\n",
       "    </tr>\n",
       "    <tr>\n",
       "      <th>4</th>\n",
       "      <td>0.454072</td>\n",
       "      <td>(D2, trt_cp)</td>\n",
       "      <td>2</td>\n",
       "    </tr>\n",
       "  </tbody>\n",
       "</table>\n",
       "</div>"
      ],
      "text/plain": [
       "    support      itemsets  length\n",
       "3  0.470170  (D1, trt_cp)       2\n",
       "4  0.454072  (D2, trt_cp)       2"
      ]
     },
     "execution_count": 103,
     "metadata": {},
     "output_type": "execute_result"
    }
   ],
   "source": [
    "frequent_itemsets[ (frequent_itemsets['length'] >= 2)]"
   ]
  },
  {
   "cell_type": "code",
   "execution_count": 104,
   "metadata": {
    "scrolled": false
   },
   "outputs": [
    {
     "data": {
      "text/html": [
       "<div>\n",
       "<style scoped>\n",
       "    .dataframe tbody tr th:only-of-type {\n",
       "        vertical-align: middle;\n",
       "    }\n",
       "\n",
       "    .dataframe tbody tr th {\n",
       "        vertical-align: top;\n",
       "    }\n",
       "\n",
       "    .dataframe thead th {\n",
       "        text-align: right;\n",
       "    }\n",
       "</style>\n",
       "<table border=\"1\" class=\"dataframe\">\n",
       "  <thead>\n",
       "    <tr style=\"text-align: right;\">\n",
       "      <th></th>\n",
       "      <th>antecedents</th>\n",
       "      <th>consequents</th>\n",
       "      <th>antecedent support</th>\n",
       "      <th>consequent support</th>\n",
       "      <th>support</th>\n",
       "      <th>confidence</th>\n",
       "      <th>lift</th>\n",
       "      <th>leverage</th>\n",
       "      <th>conviction</th>\n",
       "    </tr>\n",
       "  </thead>\n",
       "  <tbody>\n",
       "    <tr>\n",
       "      <th>0</th>\n",
       "      <td>(D1)</td>\n",
       "      <td>(trt_cp)</td>\n",
       "      <td>0.50947</td>\n",
       "      <td>0.924242</td>\n",
       "      <td>0.470170</td>\n",
       "      <td>0.922862</td>\n",
       "      <td>0.998507</td>\n",
       "      <td>-0.000703</td>\n",
       "      <td>0.982110</td>\n",
       "    </tr>\n",
       "    <tr>\n",
       "      <th>1</th>\n",
       "      <td>(D2)</td>\n",
       "      <td>(trt_cp)</td>\n",
       "      <td>0.49053</td>\n",
       "      <td>0.924242</td>\n",
       "      <td>0.454072</td>\n",
       "      <td>0.925676</td>\n",
       "      <td>1.001551</td>\n",
       "      <td>0.000703</td>\n",
       "      <td>1.019284</td>\n",
       "    </tr>\n",
       "  </tbody>\n",
       "</table>\n",
       "</div>"
      ],
      "text/plain": [
       "  antecedents consequents  antecedent support  consequent support   support  \\\n",
       "0        (D1)    (trt_cp)             0.50947            0.924242  0.470170   \n",
       "1        (D2)    (trt_cp)             0.49053            0.924242  0.454072   \n",
       "\n",
       "   confidence      lift  leverage  conviction  \n",
       "0    0.922862  0.998507 -0.000703    0.982110  \n",
       "1    0.925676  1.001551  0.000703    1.019284  "
      ]
     },
     "execution_count": 104,
     "metadata": {},
     "output_type": "execute_result"
    }
   ],
   "source": [
    "from mlxtend.frequent_patterns import association_rules\n",
    "\n",
    "association_rules(frequent_itemsets, metric=\"confidence\", min_threshold=0.92)"
   ]
  },
  {
   "cell_type": "markdown",
   "metadata": {},
   "source": [
    "### Choice of Interesting Rules"
   ]
  },
  {
   "cell_type": "markdown",
   "metadata": {},
   "source": [
    "Confidence is often misleading, hence to choose rules which actually means something, we use Lift."
   ]
  },
  {
   "cell_type": "code",
   "execution_count": 105,
   "metadata": {
    "scrolled": false
   },
   "outputs": [
    {
     "data": {
      "text/html": [
       "<div>\n",
       "<style scoped>\n",
       "    .dataframe tbody tr th:only-of-type {\n",
       "        vertical-align: middle;\n",
       "    }\n",
       "\n",
       "    .dataframe tbody tr th {\n",
       "        vertical-align: top;\n",
       "    }\n",
       "\n",
       "    .dataframe thead th {\n",
       "        text-align: right;\n",
       "    }\n",
       "</style>\n",
       "<table border=\"1\" class=\"dataframe\">\n",
       "  <thead>\n",
       "    <tr style=\"text-align: right;\">\n",
       "      <th></th>\n",
       "      <th>antecedents</th>\n",
       "      <th>consequents</th>\n",
       "      <th>antecedent support</th>\n",
       "      <th>consequent support</th>\n",
       "      <th>support</th>\n",
       "      <th>confidence</th>\n",
       "      <th>lift</th>\n",
       "      <th>leverage</th>\n",
       "      <th>conviction</th>\n",
       "    </tr>\n",
       "  </thead>\n",
       "  <tbody>\n",
       "    <tr>\n",
       "      <th>0</th>\n",
       "      <td>(D2)</td>\n",
       "      <td>(trt_cp)</td>\n",
       "      <td>0.490530</td>\n",
       "      <td>0.924242</td>\n",
       "      <td>0.454072</td>\n",
       "      <td>0.925676</td>\n",
       "      <td>1.001551</td>\n",
       "      <td>0.000703</td>\n",
       "      <td>1.019284</td>\n",
       "    </tr>\n",
       "    <tr>\n",
       "      <th>1</th>\n",
       "      <td>(trt_cp)</td>\n",
       "      <td>(D2)</td>\n",
       "      <td>0.924242</td>\n",
       "      <td>0.490530</td>\n",
       "      <td>0.454072</td>\n",
       "      <td>0.491291</td>\n",
       "      <td>1.001551</td>\n",
       "      <td>0.000703</td>\n",
       "      <td>1.001495</td>\n",
       "    </tr>\n",
       "  </tbody>\n",
       "</table>\n",
       "</div>"
      ],
      "text/plain": [
       "  antecedents consequents  antecedent support  consequent support   support  \\\n",
       "0        (D2)    (trt_cp)            0.490530            0.924242  0.454072   \n",
       "1    (trt_cp)        (D2)            0.924242            0.490530  0.454072   \n",
       "\n",
       "   confidence      lift  leverage  conviction  \n",
       "0    0.925676  1.001551  0.000703    1.019284  \n",
       "1    0.491291  1.001551  0.000703    1.001495  "
      ]
     },
     "execution_count": 105,
     "metadata": {},
     "output_type": "execute_result"
    }
   ],
   "source": [
    "rules = association_rules(frequent_itemsets, metric=\"lift\", min_threshold=1)\n",
    "rules"
   ]
  },
  {
   "cell_type": "markdown",
   "metadata": {},
   "source": [
    "### Saving Rules to a txt and excel file"
   ]
  },
  {
   "cell_type": "code",
   "execution_count": 106,
   "metadata": {},
   "outputs": [],
   "source": [
    "rules.to_csv('arules.txt', header=True, index=False, sep='\\t', mode='a')"
   ]
  },
  {
   "cell_type": "code",
   "execution_count": 107,
   "metadata": {},
   "outputs": [],
   "source": [
    "rules.to_excel(\"arules.xlsx\", sheet_name='Sheet_name_1')  "
   ]
  },
  {
   "cell_type": "markdown",
   "metadata": {},
   "source": [
    "# Result"
   ]
  },
  {
   "cell_type": "code",
   "execution_count": 108,
   "metadata": {},
   "outputs": [],
   "source": [
    "lst = ['Linear', 'Polynomial', 'Logistic', 'Decision Tree', 'Naive Bayes', 'SVM']\n",
    "lst2 = ['42%', '56%', '94%', '86.5%', '94.3%', '93.9%']"
   ]
  },
  {
   "cell_type": "code",
   "execution_count": 109,
   "metadata": {},
   "outputs": [
    {
     "data": {
      "text/html": [
       "<div>\n",
       "<style scoped>\n",
       "    .dataframe tbody tr th:only-of-type {\n",
       "        vertical-align: middle;\n",
       "    }\n",
       "\n",
       "    .dataframe tbody tr th {\n",
       "        vertical-align: top;\n",
       "    }\n",
       "\n",
       "    .dataframe thead th {\n",
       "        text-align: right;\n",
       "    }\n",
       "</style>\n",
       "<table border=\"1\" class=\"dataframe\">\n",
       "  <thead>\n",
       "    <tr style=\"text-align: right;\">\n",
       "      <th></th>\n",
       "      <th>Algorithm</th>\n",
       "      <th>Accuracy</th>\n",
       "    </tr>\n",
       "  </thead>\n",
       "  <tbody>\n",
       "    <tr>\n",
       "      <th>0</th>\n",
       "      <td>Linear</td>\n",
       "      <td>42%</td>\n",
       "    </tr>\n",
       "    <tr>\n",
       "      <th>1</th>\n",
       "      <td>Polynomial</td>\n",
       "      <td>56%</td>\n",
       "    </tr>\n",
       "    <tr>\n",
       "      <th>2</th>\n",
       "      <td>Logistic</td>\n",
       "      <td>94%</td>\n",
       "    </tr>\n",
       "    <tr>\n",
       "      <th>3</th>\n",
       "      <td>Decision Tree</td>\n",
       "      <td>86.5%</td>\n",
       "    </tr>\n",
       "    <tr>\n",
       "      <th>4</th>\n",
       "      <td>Naive Bayes</td>\n",
       "      <td>94.3%</td>\n",
       "    </tr>\n",
       "    <tr>\n",
       "      <th>5</th>\n",
       "      <td>SVM</td>\n",
       "      <td>93.9%</td>\n",
       "    </tr>\n",
       "  </tbody>\n",
       "</table>\n",
       "</div>"
      ],
      "text/plain": [
       "       Algorithm Accuracy\n",
       "0         Linear      42%\n",
       "1     Polynomial      56%\n",
       "2       Logistic      94%\n",
       "3  Decision Tree    86.5%\n",
       "4    Naive Bayes    94.3%\n",
       "5            SVM    93.9%"
      ]
     },
     "execution_count": 109,
     "metadata": {},
     "output_type": "execute_result"
    }
   ],
   "source": [
    "df = pd.DataFrame(list(zip(lst, lst2)), \n",
    "               columns =['Algorithm', 'Accuracy']) \n",
    "df "
   ]
  },
  {
   "cell_type": "markdown",
   "metadata": {},
   "source": [
    "We also saw how __K-Means__ helped us in clustering gene expression data with cell viability. Further __Association Rule Mining__ was done to find what kind of treatment and what dose is actually helping people."
   ]
  },
  {
   "cell_type": "code",
   "execution_count": null,
   "metadata": {},
   "outputs": [],
   "source": []
  }
 ],
 "metadata": {
  "kernelspec": {
   "display_name": "Python 3",
   "language": "python",
   "name": "python3"
  },
  "language_info": {
   "codemirror_mode": {
    "name": "ipython",
    "version": 3
   },
   "file_extension": ".py",
   "mimetype": "text/x-python",
   "name": "python",
   "nbconvert_exporter": "python",
   "pygments_lexer": "ipython3",
   "version": "3.7.3"
  }
 },
 "nbformat": 4,
 "nbformat_minor": 4
}
